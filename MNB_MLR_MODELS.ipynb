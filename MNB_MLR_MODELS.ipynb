{
  "nbformat": 4,
  "nbformat_minor": 0,
  "metadata": {
    "colab": {
      "name": "Untitled4.ipynb",
      "provenance": [],
      "collapsed_sections": [],
      "authorship_tag": "ABX9TyPFFamTwB9l/RmazrsD9l/K",
      "include_colab_link": true
    },
    "kernelspec": {
      "name": "python3",
      "display_name": "Python 3"
    }
  },
  "cells": [
    {
      "cell_type": "markdown",
      "metadata": {
        "id": "view-in-github",
        "colab_type": "text"
      },
      "source": [
        "<a href=\"https://colab.research.google.com/github/kalnikos/Document-Classification-/blob/main/MNB_MLR_MODELS.ipynb\" target=\"_parent\"><img src=\"https://colab.research.google.com/assets/colab-badge.svg\" alt=\"Open In Colab\"/></a>"
      ]
    },
    {
      "cell_type": "code",
      "metadata": {
        "colab": {
          "base_uri": "https://localhost:8080/"
        },
        "id": "b7tw-Mr4lDtt",
        "outputId": "18a0d02f-3e86-4d62-9a3f-42a65d48458e"
      },
      "source": [
        "## from zipfile import ZipFile\r\n",
        "file_name = \"/content/Pickles.zip\"\r\n",
        "\r\n",
        "with ZipFile(file_name, 'r') as zip:\r\n",
        "  zip.extractall()\r\n",
        "  print('Done')"
      ],
      "execution_count": 9,
      "outputs": [
        {
          "output_type": "stream",
          "text": [
            "Done\n"
          ],
          "name": "stdout"
        }
      ]
    },
    {
      "cell_type": "code",
      "metadata": {
        "id": "X9LIIbVXlDme"
      },
      "source": [
        "## Read the different data parts\r\n",
        "import pickle\r\n",
        "path_df = \"/content/Pickles/df.pickle\"\r\n",
        "with open(path_df, 'rb') as data:\r\n",
        "    df = pickle.load(data)\r\n",
        "\r\n",
        "path_X_train = \"/content/Pickles/X_train.pickle\"\r\n",
        "with open(path_X_train, 'rb') as data:\r\n",
        "    X_train = pickle.load(data)\r\n",
        "\r\n",
        "path_X_test = \"/content/Pickles/X_test.pickle\"\r\n",
        "with open(path_X_test, 'rb') as data:\r\n",
        "    X_test = pickle.load(data)\r\n",
        "\r\n",
        "path_y_train = \"/content/Pickles/y_train.pickle\"\r\n",
        "with open(path_y_train, 'rb') as data:\r\n",
        "    y_train = pickle.load(data)\r\n",
        "\r\n",
        "path_y_test = \"/content/Pickles/y_test.pickle\"\r\n",
        "with open(path_y_test, 'rb') as data:\r\n",
        "    y_test = pickle.load(data)"
      ],
      "execution_count": 20,
      "outputs": []
    },
    {
      "cell_type": "code",
      "metadata": {
        "id": "NTRZ39ywwaLe"
      },
      "source": [
        ""
      ],
      "execution_count": null,
      "outputs": []
    },
    {
      "cell_type": "markdown",
      "metadata": {
        "id": "EiFsDyQSwa_X"
      },
      "source": [
        "Train the first model \r\n",
        "\r\n",
        "Naive Bayes classifier for multinomial models\r\n",
        "\r\n",
        "The multinomial Naive Bayes classifier is suitable for classification with discrete features (e.g., word counts for text classification). The multinomial distribution normally requires integer feature counts. However, in practice, fractional counts such as tf-idf may also work.\r\n",
        "\r\n"
      ]
    },
    {
      "cell_type": "code",
      "metadata": {
        "colab": {
          "base_uri": "https://localhost:8080/"
        },
        "id": "sEMq0T7euZEp",
        "outputId": "f05dcb57-d55b-433e-f323-a7d0afd7485d"
      },
      "source": [
        "from sklearn.naive_bayes import MultinomialNB\r\n",
        "from sklearn.metrics import accuracy_score\r\n",
        "\r\n",
        "mult_clf = MultinomialNB()\r\n",
        "mult_clf"
      ],
      "execution_count": 21,
      "outputs": [
        {
          "output_type": "execute_result",
          "data": {
            "text/plain": [
              "MultinomialNB(alpha=1.0, class_prior=None, fit_prior=True)"
            ]
          },
          "metadata": {
            "tags": []
          },
          "execution_count": 21
        }
      ]
    },
    {
      "cell_type": "code",
      "metadata": {
        "colab": {
          "base_uri": "https://localhost:8080/"
        },
        "id": "KwAiVIRAuZPS",
        "outputId": "f963c347-66f7-4d53-d3b0-9bc5c3c32d26"
      },
      "source": [
        "## Fit the model\r\n",
        "mult_clf.fit(X_train, y_train)"
      ],
      "execution_count": 22,
      "outputs": [
        {
          "output_type": "execute_result",
          "data": {
            "text/plain": [
              "MultinomialNB(alpha=1.0, class_prior=None, fit_prior=True)"
            ]
          },
          "metadata": {
            "tags": []
          },
          "execution_count": 22
        }
      ]
    },
    {
      "cell_type": "code",
      "metadata": {
        "colab": {
          "base_uri": "https://localhost:8080/"
        },
        "id": "l96xKmvKuZWZ",
        "outputId": "0d1808be-2c97-42eb-ca0e-b146e48d79fe"
      },
      "source": [
        "## Predictions\r\n",
        "y_pred = mult_clf.predict(X_train)\r\n",
        "\r\n",
        "## Train set accuracy\r\n",
        "print(\"Accuracy:\",accuracy_score(y_train, y_pred))"
      ],
      "execution_count": 23,
      "outputs": [
        {
          "output_type": "stream",
          "text": [
            "Accuracy: 0.9444444444444444\n"
          ],
          "name": "stdout"
        }
      ]
    },
    {
      "cell_type": "code",
      "metadata": {
        "colab": {
          "base_uri": "https://localhost:8080/"
        },
        "id": "8neL2YyRuZdF",
        "outputId": "a82f513a-8e93-4e25-fd2a-f3c72a46e8d7"
      },
      "source": [
        "## Check the cross validation scores\r\n",
        "from sklearn.model_selection import cross_val_score\r\n",
        "scores = cross_val_score(mult_clf, X_train, y_train, cv=10, scoring=\"accuracy\")\r\n",
        "scores"
      ],
      "execution_count": 25,
      "outputs": [
        {
          "output_type": "execute_result",
          "data": {
            "text/plain": [
              "array([0.7962963 , 0.85185185, 0.81481481, 0.82407407, 0.84259259,\n",
              "       0.87037037, 0.83333333, 0.85185185, 0.84259259, 0.87037037])"
            ]
          },
          "metadata": {
            "tags": []
          },
          "execution_count": 25
        }
      ]
    },
    {
      "cell_type": "code",
      "metadata": {
        "colab": {
          "base_uri": "https://localhost:8080/"
        },
        "id": "BtPOq4zGLsTH",
        "outputId": "69233d15-df95-47a6-f3ee-7c6e9c226e31"
      },
      "source": [
        "## test set accuracy\r\n",
        "pred_test = mult_clf.predict(X_test)\r\n",
        "\r\n",
        "## Train set accuracy\r\n",
        "print(\"Accuracy:\",accuracy_score(y_test, pred_test))"
      ],
      "execution_count": 57,
      "outputs": [
        {
          "output_type": "stream",
          "text": [
            "Accuracy: 0.8347107438016529\n"
          ],
          "name": "stdout"
        }
      ]
    },
    {
      "cell_type": "code",
      "metadata": {
        "colab": {
          "base_uri": "https://localhost:8080/"
        },
        "id": "Zl3v6iZ3Lsk3",
        "outputId": "ccfc6dda-777b-46eb-8daf-70266f5d1ebb"
      },
      "source": [
        "# Classification report\r\n",
        "from sklearn.metrics import classification_report, confusion_matrix, accuracy_score\r\n",
        "\r\n",
        "print(\"Classification report\")\r\n",
        "print(classification_report(y_test,pred_test))"
      ],
      "execution_count": 58,
      "outputs": [
        {
          "output_type": "stream",
          "text": [
            "Classification report\n",
            "              precision    recall  f1-score   support\n",
            "\n",
            "           0       0.87      0.72      0.79        18\n",
            "           1       0.72      0.87      0.79        15\n",
            "           2       0.91      0.87      0.89        23\n",
            "           3       0.83      0.87      0.85        23\n",
            "           4       0.78      0.64      0.70        11\n",
            "           5       0.80      0.73      0.76        11\n",
            "           6       0.89      1.00      0.94         8\n",
            "           7       0.86      1.00      0.92        12\n",
            "\n",
            "    accuracy                           0.83       121\n",
            "   macro avg       0.83      0.84      0.83       121\n",
            "weighted avg       0.84      0.83      0.83       121\n",
            "\n"
          ],
          "name": "stdout"
        }
      ]
    },
    {
      "cell_type": "code",
      "metadata": {
        "colab": {
          "base_uri": "https://localhost:8080/",
          "height": 351
        },
        "id": "2UXlJdduuZjM",
        "outputId": "830da862-0de7-44d8-ade8-ec831aa16e0f"
      },
      "source": [
        "import seaborn as sns\r\n",
        "from sklearn.metrics import confusion_matrix\r\n",
        "encode = {'Admin':0, 'Analyst':1, 'cleaner':2, 'Finance':3, 'hospitality':4,\r\n",
        "       'recruitment':5, 'Warehouse':6, 'web developer':7}\r\n",
        "labels = [i for i in encode]\r\n",
        "cf_matrix = confusion_matrix(y_test, pred_test)\r\n",
        "sns.heatmap(cf_matrix, linewidths=1, annot=True, fmt='g', xticklabels=labels, yticklabels=labels)"
      ],
      "execution_count": 59,
      "outputs": [
        {
          "output_type": "execute_result",
          "data": {
            "text/plain": [
              "<matplotlib.axes._subplots.AxesSubplot at 0x7fac67746a20>"
            ]
          },
          "metadata": {
            "tags": []
          },
          "execution_count": 59
        },
        {
          "output_type": "display_data",
          "data": {
            "image/png": "[encoded data removed]",
            "text/plain": [
              "<Figure size 432x288 with 2 Axes>"
            ]
          },
          "metadata": {
            "tags": [],
            "needs_background": "light"
          }
        }
      ]
    },
    {
      "cell_type": "code",
      "metadata": {
        "colab": {
          "base_uri": "https://localhost:8080/",
          "height": 77
        },
        "id": "XkCf7Y4KNUkc",
        "outputId": "197f9988-41fe-4d40-8c4e-248b85a46b10"
      },
      "source": [
        "D = {\r\n",
        "     'Model': 'Multionomial Naive Bayes',\r\n",
        "     'Train Set Accuracy': accuracy_score(y_train, mult_clf.predict(X_train)),\r\n",
        "     'Test Set Accuracy': accuracy_score(y_test, pred_test)     \r\n",
        "\r\n",
        "}\r\n",
        "\r\n",
        "mnb_df = pd.DataFrame(D, index=[0])\r\n",
        "mnb_df"
      ],
      "execution_count": 60,
      "outputs": [
        {
          "output_type": "execute_result",
          "data": {
            "text/html": [
              "<div>\n",
              "<style scoped>\n",
              "    .dataframe tbody tr th:only-of-type {\n",
              "        vertical-align: middle;\n",
              "    }\n",
              "\n",
              "    .dataframe tbody tr th {\n",
              "        vertical-align: top;\n",
              "    }\n",
              "\n",
              "    .dataframe thead th {\n",
              "        text-align: right;\n",
              "    }\n",
              "</style>\n",
              "<table border=\"1\" class=\"dataframe\">\n",
              "  <thead>\n",
              "    <tr style=\"text-align: right;\">\n",
              "      <th></th>\n",
              "      <th>Model</th>\n",
              "      <th>Train Set Accuracy</th>\n",
              "      <th>Test Set Accuracy</th>\n",
              "    </tr>\n",
              "  </thead>\n",
              "  <tbody>\n",
              "    <tr>\n",
              "      <th>0</th>\n",
              "      <td>Multionomial Naive Bayes</td>\n",
              "      <td>0.944444</td>\n",
              "      <td>0.834711</td>\n",
              "    </tr>\n",
              "  </tbody>\n",
              "</table>\n",
              "</div>"
            ],
            "text/plain": [
              "                      Model  Train Set Accuracy  Test Set Accuracy\n",
              "0  Multionomial Naive Bayes            0.944444           0.834711"
            ]
          },
          "metadata": {
            "tags": []
          },
          "execution_count": 60
        }
      ]
    },
    {
      "cell_type": "code",
      "metadata": {
        "id": "kvBSlR_cM4WU"
      },
      "source": [
        "## Save the model\r\n",
        "with open('/content/Pickles/MNB.pickle', 'wb') as output:\r\n",
        "    pickle.dump(mult_clf, output)\r\n",
        "\r\n",
        "## Save the data frame\r\n",
        "with open('/content/Pickles/MNB_df.pickle', 'wb') as output:\r\n",
        "  pickle.dump(mnb_df, output)"
      ],
      "execution_count": 61,
      "outputs": []
    },
    {
      "cell_type": "markdown",
      "metadata": {
        "id": "yA0Pcq6Gyec_"
      },
      "source": [
        "## Multinomial Logistic Regression"
      ]
    },
    {
      "cell_type": "code",
      "metadata": {
        "colab": {
          "base_uri": "https://localhost:8080/"
        },
        "id": "F9I7fQ0CuZ0H",
        "outputId": "1206e56f-b493-4923-aba1-274e02f0c05a"
      },
      "source": [
        "from sklearn.linear_model import LogisticRegression\r\n",
        "\r\n",
        "## Base model\r\n",
        "log_model = LogisticRegression(random_state=42)\r\n",
        "print(log_model.get_params())"
      ],
      "execution_count": 28,
      "outputs": [
        {
          "output_type": "stream",
          "text": [
            "{'C': 1.0, 'class_weight': None, 'dual': False, 'fit_intercept': True, 'intercept_scaling': 1, 'l1_ratio': None, 'max_iter': 100, 'multi_class': 'auto', 'n_jobs': None, 'penalty': 'l2', 'random_state': 42, 'solver': 'lbfgs', 'tol': 0.0001, 'verbose': 0, 'warm_start': False}\n"
          ],
          "name": "stdout"
        }
      ]
    },
    {
      "cell_type": "code",
      "metadata": {
        "colab": {
          "base_uri": "https://localhost:8080/"
        },
        "id": "CxPsEpJRuZ_V",
        "outputId": "1ac0836f-2df9-4aed-f942-53a309b40a92"
      },
      "source": [
        "## Fit the model\r\n",
        "log_model.fit(X_train, y_train)"
      ],
      "execution_count": 29,
      "outputs": [
        {
          "output_type": "execute_result",
          "data": {
            "text/plain": [
              "LogisticRegression(C=1.0, class_weight=None, dual=False, fit_intercept=True,\n",
              "                   intercept_scaling=1, l1_ratio=None, max_iter=100,\n",
              "                   multi_class='auto', n_jobs=None, penalty='l2',\n",
              "                   random_state=42, solver='lbfgs', tol=0.0001, verbose=0,\n",
              "                   warm_start=False)"
            ]
          },
          "metadata": {
            "tags": []
          },
          "execution_count": 29
        }
      ]
    },
    {
      "cell_type": "code",
      "metadata": {
        "colab": {
          "base_uri": "https://localhost:8080/"
        },
        "id": "bhwtRrQHy_IE",
        "outputId": "270b3293-75c9-4eea-fc3b-ecc55333bde1"
      },
      "source": [
        "## Predictions\r\n",
        "y_pred = log_model.predict(X_train)\r\n",
        "\r\n",
        "## Train set accuracy\r\n",
        "print(\"Accuracy:\",accuracy_score(y_train, y_pred))"
      ],
      "execution_count": 30,
      "outputs": [
        {
          "output_type": "stream",
          "text": [
            "Accuracy: 0.9712962962962963\n"
          ],
          "name": "stdout"
        }
      ]
    },
    {
      "cell_type": "code",
      "metadata": {
        "colab": {
          "base_uri": "https://localhost:8080/"
        },
        "id": "4JKe6zxey_Tq",
        "outputId": "a17df852-e34a-43e1-d20a-e7071b241c31"
      },
      "source": [
        "## Check the cross validation scores\r\n",
        "scores = cross_val_score(log_model, X_train, y_train, cv=10, scoring=\"accuracy\")\r\n",
        "scores"
      ],
      "execution_count": 31,
      "outputs": [
        {
          "output_type": "execute_result",
          "data": {
            "text/plain": [
              "array([0.86111111, 0.86111111, 0.89814815, 0.87037037, 0.90740741,\n",
              "       0.90740741, 0.89814815, 0.89814815, 0.90740741, 0.87962963])"
            ]
          },
          "metadata": {
            "tags": []
          },
          "execution_count": 31
        }
      ]
    },
    {
      "cell_type": "markdown",
      "metadata": {
        "id": "qI4w0QEBzUqh"
      },
      "source": [
        "## Hyper mapameters tuning\r\n",
        "### We'll tune the following ones:\r\n",
        "\r\n",
        "## C = Inverse of regularization strength. Smaller values specify stronger regularization.\r\n",
        "## multi_class = We'll choose multinomial because this is a multi-class problem.\r\n",
        "## solver: For multiclass problems, only newton-cg, sag, saga and lbfgs handle multinomial loss.\r\n",
        "## class_weight: Weights associated with classes.\r\n",
        "## penalty: Used to specify the norm used in the penalization. The ‘newton-cg’, ‘sag’ and ‘lbfgs’ solvers support only l2 penalties."
      ]
    },
    {
      "cell_type": "code",
      "metadata": {
        "colab": {
          "base_uri": "https://localhost:8080/"
        },
        "id": "ViLSBC0Sy_u9",
        "outputId": "571c9106-ee72-43f3-f15d-57c0ae40daee"
      },
      "source": [
        "## Randomize grid search\r\n",
        "# C\r\n",
        "C = [float(x) for x in np.linspace(start = 0.1, stop = 1, num = 10)]\r\n",
        "\r\n",
        "# multi_class\r\n",
        "multi_class = ['multinomial']\r\n",
        "\r\n",
        "# solver\r\n",
        "solver = ['newton-cg', 'sag', 'saga', 'lbfgs']\r\n",
        " \r\n",
        "# class_weight\r\n",
        "class_weight = ['balanced', None]\r\n",
        "\r\n",
        "# penalty\r\n",
        "penalty = ['l2']\r\n",
        "\r\n",
        "# Create the random grid\r\n",
        "parameters = {'C': C,\r\n",
        "               'multi_class': multi_class,\r\n",
        "               'solver': solver,\r\n",
        "               'class_weight': class_weight,\r\n",
        "               'penalty': penalty}\r\n",
        "\r\n",
        "print(parameters)"
      ],
      "execution_count": 32,
      "outputs": [
        {
          "output_type": "stream",
          "text": [
            "{'C': [0.1, 0.2, 0.30000000000000004, 0.4, 0.5, 0.6, 0.7000000000000001, 0.8, 0.9, 1.0], 'multi_class': ['multinomial'], 'solver': ['newton-cg', 'sag', 'saga', 'lbfgs'], 'class_weight': ['balanced', None], 'penalty': ['l2']}\n"
          ],
          "name": "stdout"
        }
      ]
    },
    {
      "cell_type": "code",
      "metadata": {
        "colab": {
          "base_uri": "https://localhost:8080/"
        },
        "id": "MQ-AAwFmy_5G",
        "outputId": "2484d17b-0d36-4855-9040-11f3d81e1cc1"
      },
      "source": [
        "# Random search\r\n",
        "from sklearn.model_selection import RandomizedSearchCV\r\n",
        "from sklearn.model_selection import GridSearchCV\r\n",
        "\r\n",
        "random_search = RandomizedSearchCV(estimator=log_model,\r\n",
        "                                   param_distributions=parameters,\r\n",
        "                                   n_iter=50,\r\n",
        "                                   scoring='accuracy',\r\n",
        "                                   cv=3, \r\n",
        "                                   verbose=1, \r\n",
        "                                   random_state=8)\r\n",
        "\r\n",
        "# Fit the random search model\r\n",
        "random_search.fit(X_train, y_train)"
      ],
      "execution_count": 33,
      "outputs": [
        {
          "output_type": "stream",
          "text": [
            "Fitting 3 folds for each of 50 candidates, totalling 150 fits\n"
          ],
          "name": "stdout"
        },
        {
          "output_type": "stream",
          "text": [
            "[Parallel(n_jobs=1)]: Using backend SequentialBackend with 1 concurrent workers.\n",
            "[Parallel(n_jobs=1)]: Done 150 out of 150 | elapsed: 22.3min finished\n"
          ],
          "name": "stderr"
        },
        {
          "output_type": "execute_result",
          "data": {
            "text/plain": [
              "RandomizedSearchCV(cv=3, error_score=nan,\n",
              "                   estimator=LogisticRegression(C=1.0, class_weight=None,\n",
              "                                                dual=False, fit_intercept=True,\n",
              "                                                intercept_scaling=1,\n",
              "                                                l1_ratio=None, max_iter=100,\n",
              "                                                multi_class='auto', n_jobs=None,\n",
              "                                                penalty='l2', random_state=42,\n",
              "                                                solver='lbfgs', tol=0.0001,\n",
              "                                                verbose=0, warm_start=False),\n",
              "                   iid='deprecated', n_iter=50, n_jobs=None,\n",
              "                   param_distributions={'C': [0.1, 0.2, 0.30000000000000004,\n",
              "                                              0.4, 0.5, 0.6, 0.7000000000000001,\n",
              "                                              0.8, 0.9, 1.0],\n",
              "                                        'class_weight': ['balanced', None],\n",
              "                                        'multi_class': ['multinomial'],\n",
              "                                        'penalty': ['l2'],\n",
              "                                        'solver': ['newton-cg', 'sag', 'saga',\n",
              "                                                   'lbfgs']},\n",
              "                   pre_dispatch='2*n_jobs', random_state=8, refit=True,\n",
              "                   return_train_score=False, scoring='accuracy', verbose=1)"
            ]
          },
          "metadata": {
            "tags": []
          },
          "execution_count": 33
        }
      ]
    },
    {
      "cell_type": "code",
      "metadata": {
        "colab": {
          "base_uri": "https://localhost:8080/"
        },
        "id": "0TOiODeXzABp",
        "outputId": "3db3cbfe-a8e4-4f96-8b22-92cbd9d26dcb"
      },
      "source": [
        "print(\"The best hyperparameters from Random Search are:\")\r\n",
        "print(random_search.best_params_)\r\n",
        "print(\"\")\r\n",
        "print(\"The mean accuracy of a model with these hyperparameters is:\")\r\n",
        "print(random_search.best_score_)"
      ],
      "execution_count": 34,
      "outputs": [
        {
          "output_type": "stream",
          "text": [
            "The best hyperparameters from Random Search are:\n",
            "{'solver': 'sag', 'penalty': 'l2', 'multi_class': 'multinomial', 'class_weight': 'balanced', 'C': 1.0}\n",
            "\n",
            "The mean accuracy of a model with these hyperparameters is:\n",
            "0.8842592592592592\n"
          ],
          "name": "stdout"
        }
      ]
    },
    {
      "cell_type": "code",
      "metadata": {
        "colab": {
          "base_uri": "https://localhost:8080/"
        },
        "id": "QY3ybwSezAMf",
        "outputId": "f303fdfd-a57d-4a00-945f-d76d7bcfeead"
      },
      "source": [
        "## Save the model\r\n",
        "best_mlr = random_search.best_estimator_\r\n",
        "best_mlr"
      ],
      "execution_count": 41,
      "outputs": [
        {
          "output_type": "execute_result",
          "data": {
            "text/plain": [
              "LogisticRegression(C=1.0, class_weight='balanced', dual=False,\n",
              "                   fit_intercept=True, intercept_scaling=1, l1_ratio=None,\n",
              "                   max_iter=100, multi_class='multinomial', n_jobs=None,\n",
              "                   penalty='l2', random_state=42, solver='sag', tol=0.0001,\n",
              "                   verbose=0, warm_start=False)"
            ]
          },
          "metadata": {
            "tags": []
          },
          "execution_count": 41
        }
      ]
    },
    {
      "cell_type": "code",
      "metadata": {
        "colab": {
          "base_uri": "https://localhost:8080/"
        },
        "id": "BQ7CVIdr-R0O",
        "outputId": "0da4667d-a89e-412d-b2ab-203a0d20ebb6"
      },
      "source": [
        "## Fit the model\r\n",
        "best_mlr.fit(X_train, y_train)"
      ],
      "execution_count": 42,
      "outputs": [
        {
          "output_type": "execute_result",
          "data": {
            "text/plain": [
              "LogisticRegression(C=1.0, class_weight='balanced', dual=False,\n",
              "                   fit_intercept=True, intercept_scaling=1, l1_ratio=None,\n",
              "                   max_iter=100, multi_class='multinomial', n_jobs=None,\n",
              "                   penalty='l2', random_state=42, solver='sag', tol=0.0001,\n",
              "                   verbose=0, warm_start=False)"
            ]
          },
          "metadata": {
            "tags": []
          },
          "execution_count": 42
        }
      ]
    },
    {
      "cell_type": "code",
      "metadata": {
        "colab": {
          "base_uri": "https://localhost:8080/"
        },
        "id": "zaRc28LI-SKU",
        "outputId": "263437ec-90e9-40f1-ecb2-3a3055ab67a4"
      },
      "source": [
        "## pedictions\r\n",
        "y_pred = best_mlr.predict(X_train)\r\n",
        "\r\n",
        "## Train set accuracy\r\n",
        "print(\"Accuracy:\",accuracy_score(y_train, y_pred))"
      ],
      "execution_count": 43,
      "outputs": [
        {
          "output_type": "stream",
          "text": [
            "Accuracy: 0.9712962962962963\n"
          ],
          "name": "stdout"
        }
      ]
    },
    {
      "cell_type": "code",
      "metadata": {
        "colab": {
          "base_uri": "https://localhost:8080/"
        },
        "id": "CgPjZMjK-Sja",
        "outputId": "8b82f419-c745-45b2-af26-6fc60c63c837"
      },
      "source": [
        "## test set predictions\r\n",
        "test_pred = best_mlr.predict(X_test)\r\n",
        "\r\n",
        "## test set accuracy\r\n",
        "print(\"Test set Accuracy:\",accuracy_score(y_test, test_pred))"
      ],
      "execution_count": 46,
      "outputs": [
        {
          "output_type": "stream",
          "text": [
            "Test set Accuracy: 0.9008264462809917\n"
          ],
          "name": "stdout"
        }
      ]
    },
    {
      "cell_type": "code",
      "metadata": {
        "colab": {
          "base_uri": "https://localhost:8080/"
        },
        "id": "s4ACYe5s-S1V",
        "outputId": "6a2b197b-5efd-4883-b63c-1a13d44254e9"
      },
      "source": [
        "# Classification report\r\n",
        "print(\"Classification report\")\r\n",
        "print(classification_report(y_test,test_pred))"
      ],
      "execution_count": 48,
      "outputs": [
        {
          "output_type": "stream",
          "text": [
            "Classification report\n",
            "              precision    recall  f1-score   support\n",
            "\n",
            "           0       0.89      0.94      0.92        18\n",
            "           1       0.93      0.87      0.90        15\n",
            "           2       0.91      0.87      0.89        23\n",
            "           3       0.96      1.00      0.98        23\n",
            "           4       0.62      0.73      0.67        11\n",
            "           5       1.00      0.73      0.84        11\n",
            "           6       0.89      1.00      0.94         8\n",
            "           7       1.00      1.00      1.00        12\n",
            "\n",
            "    accuracy                           0.90       121\n",
            "   macro avg       0.90      0.89      0.89       121\n",
            "weighted avg       0.91      0.90      0.90       121\n",
            "\n"
          ],
          "name": "stdout"
        }
      ]
    },
    {
      "cell_type": "code",
      "metadata": {
        "colab": {
          "base_uri": "https://localhost:8080/",
          "height": 346
        },
        "id": "LVwqWOMc-S9G",
        "outputId": "925e1d2b-3601-4169-b09e-2ff2b8986d8b"
      },
      "source": [
        "## Confusion matrix\r\n",
        "labels = [i for i in encode]\r\n",
        "cf_matrix = confusion_matrix(y_test, test_pred)\r\n",
        "sns.heatmap(cf_matrix, linewidths=1, annot=True, fmt='g', xticklabels=labels, yticklabels=labels)"
      ],
      "execution_count": 49,
      "outputs": [
        {
          "output_type": "execute_result",
          "data": {
            "text/plain": [
              "<matplotlib.axes._subplots.AxesSubplot at 0x7fac67883b38>"
            ]
          },
          "metadata": {
            "tags": []
          },
          "execution_count": 49
        },
        {
          "output_type": "display_data",
          "data": {
            "image/png": "[encoded data removed]",
            "text/plain": [
              "<Figure size 432x288 with 2 Axes>"
            ]
          },
          "metadata": {
            "tags": [],
            "needs_background": "light"
          }
        }
      ]
    },
    {
      "cell_type": "code",
      "metadata": {
        "colab": {
          "base_uri": "https://localhost:8080/",
          "height": 77
        },
        "id": "q408PwSG-TGO",
        "outputId": "8aa0f461-3ba4-47a6-bdf7-bade438e8fce"
      },
      "source": [
        "## Create a data freme with the model train, test set accuracy\r\n",
        "D = {\r\n",
        "     'Model': 'Multionomial Logistic Regression',\r\n",
        "     'Train Set Accuracy': accuracy_score(y_train, best_mlr.predict(X_train)),\r\n",
        "     'Test Set Accuracy': accuracy_score(y_test, test_pred)\r\n",
        "}\r\n",
        "\r\n",
        "mlr_df = pd.DataFrame(D, index=[0])\r\n",
        "mlr_df"
      ],
      "execution_count": 53,
      "outputs": [
        {
          "output_type": "execute_result",
          "data": {
            "text/html": [
              "<div>\n",
              "<style scoped>\n",
              "    .dataframe tbody tr th:only-of-type {\n",
              "        vertical-align: middle;\n",
              "    }\n",
              "\n",
              "    .dataframe tbody tr th {\n",
              "        vertical-align: top;\n",
              "    }\n",
              "\n",
              "    .dataframe thead th {\n",
              "        text-align: right;\n",
              "    }\n",
              "</style>\n",
              "<table border=\"1\" class=\"dataframe\">\n",
              "  <thead>\n",
              "    <tr style=\"text-align: right;\">\n",
              "      <th></th>\n",
              "      <th>Model</th>\n",
              "      <th>Train Set Accuracy</th>\n",
              "      <th>Test Set Accuracy</th>\n",
              "    </tr>\n",
              "  </thead>\n",
              "  <tbody>\n",
              "    <tr>\n",
              "      <th>0</th>\n",
              "      <td>Multionomial Logistic Regression</td>\n",
              "      <td>0.971296</td>\n",
              "      <td>0.900826</td>\n",
              "    </tr>\n",
              "  </tbody>\n",
              "</table>\n",
              "</div>"
            ],
            "text/plain": [
              "                              Model  Train Set Accuracy  Test Set Accuracy\n",
              "0  Multionomial Logistic Regression            0.971296           0.900826"
            ]
          },
          "metadata": {
            "tags": []
          },
          "execution_count": 53
        }
      ]
    },
    {
      "cell_type": "code",
      "metadata": {
        "id": "ryTrbRn6-TPh"
      },
      "source": [
        "## Save the model\r\n",
        "with open('/content/Pickles/best_mlr.pickle', 'wb') as output:\r\n",
        "    pickle.dump(best_mlr, output)\r\n",
        "\r\n",
        "## Save the data frame\r\n",
        "with open('/content/Pickles/mlr_df.pickle', 'wb') as output:\r\n",
        "  pickle.dump(mlr_df, output)"
      ],
      "execution_count": 56,
      "outputs": []
    },
    {
      "cell_type": "code",
      "metadata": {
        "id": "lf_tQtyf-TY2"
      },
      "source": [
        ""
      ],
      "execution_count": null,
      "outputs": []
    },
    {
      "cell_type": "code",
      "metadata": {
        "id": "KAnu2BDs-Tgg"
      },
      "source": [
        ""
      ],
      "execution_count": null,
      "outputs": []
    },
    {
      "cell_type": "code",
      "metadata": {
        "id": "7kth4tKT-Top"
      },
      "source": [
        ""
      ],
      "execution_count": null,
      "outputs": []
    }
  ]
}