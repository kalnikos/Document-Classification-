{
  "nbformat": 4,
  "nbformat_minor": 0,
  "metadata": {
    "colab": {
      "name": "Untitled9.ipynb",
      "provenance": [],
      "authorship_tag": "ABX9TyMXIs3Cc/D4I9cbDXErCUuh",
      "include_colab_link": true
    },
    "kernelspec": {
      "name": "python3",
      "display_name": "Python 3"
    }
  },
  "cells": [
    {
      "cell_type": "markdown",
      "metadata": {
        "id": "view-in-github",
        "colab_type": "text"
      },
      "source": [
        "<a href=\"https://colab.research.google.com/github/kalnikos/Document-Classification-/blob/main/KNN_Model.ipynb\" target=\"_parent\"><img src=\"https://colab.research.google.com/assets/colab-badge.svg\" alt=\"Open In Colab\"/></a>"
      ]
    },
    {
      "cell_type": "markdown",
      "metadata": {
        "id": "on98f3pAFman"
      },
      "source": [
        "KNN model"
      ]
    },
    {
      "cell_type": "code",
      "metadata": {
        "id": "9Av3v6KhFdpS"
      },
      "source": [
        "import numpy as np\r\n",
        "import pandas as pd\r\n",
        "import pickle\r\n",
        "from zipfile import ZipFile\r\n",
        "from sklearn.metrics import accuracy_score\r\n",
        "from sklearn.model_selection import cross_val_score\r\n",
        "from sklearn.metrics import classification_report, confusion_matrix, accuracy_score\r\n",
        "import seaborn as sns\r\n",
        "from sklearn.metrics import confusion_matrix\r\n",
        "import matplotlib.pyplot as plt"
      ],
      "execution_count": 9,
      "outputs": []
    },
    {
      "cell_type": "code",
      "metadata": {
        "colab": {
          "base_uri": "https://localhost:8080/"
        },
        "id": "-qqkvxViFhbW",
        "outputId": "fbe14419-451a-4340-ab7d-b2e940628148"
      },
      "source": [
        "files = \"/content/model_data.zip\"\r\n",
        "\r\n",
        "with ZipFile(files, 'r') as zip:\r\n",
        "  zip.extractall()\r\n",
        "  print('Done')"
      ],
      "execution_count": 10,
      "outputs": [
        {
          "output_type": "stream",
          "text": [
            "Done\n"
          ],
          "name": "stdout"
        }
      ]
    },
    {
      "cell_type": "code",
      "metadata": {
        "id": "2GW66ua6FhwP"
      },
      "source": [
        "## Read the different data parts\r\n",
        "path_df = \"/content/model_data/df.pickle\"\r\n",
        "with open(path_df, 'rb') as data:\r\n",
        "    df = pickle.load(data)\r\n",
        "\r\n",
        "path_X_train = \"/content/model_data/X_train.pickle\"\r\n",
        "with open(path_X_train, 'rb') as data:\r\n",
        "    X_train = pickle.load(data)\r\n",
        "\r\n",
        "path_X_test = \"/content/model_data/X_test.pickle\"\r\n",
        "with open(path_X_test, 'rb') as data:\r\n",
        "    X_test = pickle.load(data)\r\n",
        "\r\n",
        "path_y_train = \"/content/model_data/y_train.pickle\"\r\n",
        "with open(path_y_train, 'rb') as data:\r\n",
        "    y_train = pickle.load(data)\r\n",
        "\r\n",
        "path_y_test = \"/content/model_data/y_test.pickle\"\r\n",
        "with open(path_y_test, 'rb') as data:\r\n",
        "    y_test = pickle.load(data)"
      ],
      "execution_count": 11,
      "outputs": []
    },
    {
      "cell_type": "code",
      "metadata": {
        "colab": {
          "base_uri": "https://localhost:8080/"
        },
        "id": "rXPZ45lZFh6W",
        "outputId": "a3f5c13b-c47f-46f9-d10b-b9877e3baa82"
      },
      "source": [
        "print(X_train.shape)\r\n",
        "print(X_test.shape)"
      ],
      "execution_count": 12,
      "outputs": [
        {
          "output_type": "stream",
          "text": [
            "(960, 293)\n",
            "(241, 293)\n"
          ],
          "name": "stdout"
        }
      ]
    },
    {
      "cell_type": "code",
      "metadata": {
        "colab": {
          "base_uri": "https://localhost:8080/"
        },
        "id": "ziW62xTTFiBF",
        "outputId": "02822c67-7619-4d2f-af04-024ab5c3a32e"
      },
      "source": [
        "## Train a KNN model\r\n",
        "from sklearn.neighbors import KNeighborsClassifier\r\n",
        "K=6\r\n",
        "\r\n",
        "knn_model = KNeighborsClassifier(n_neighbors = K)\r\n",
        "knn_model"
      ],
      "execution_count": 13,
      "outputs": [
        {
          "output_type": "execute_result",
          "data": {
            "text/plain": [
              "KNeighborsClassifier(algorithm='auto', leaf_size=30, metric='minkowski',\n",
              "                     metric_params=None, n_jobs=None, n_neighbors=6, p=2,\n",
              "                     weights='uniform')"
            ]
          },
          "metadata": {
            "tags": []
          },
          "execution_count": 13
        }
      ]
    },
    {
      "cell_type": "code",
      "metadata": {
        "colab": {
          "base_uri": "https://localhost:8080/"
        },
        "id": "dLQTlZFHFiJW",
        "outputId": "87378d41-c31d-4349-9fef-8f201527a294"
      },
      "source": [
        "## Fit the model\r\n",
        "knn_model.fit(X_train, y_train)"
      ],
      "execution_count": 14,
      "outputs": [
        {
          "output_type": "execute_result",
          "data": {
            "text/plain": [
              "KNeighborsClassifier(algorithm='auto', leaf_size=30, metric='minkowski',\n",
              "                     metric_params=None, n_jobs=None, n_neighbors=6, p=2,\n",
              "                     weights='uniform')"
            ]
          },
          "metadata": {
            "tags": []
          },
          "execution_count": 14
        }
      ]
    },
    {
      "cell_type": "code",
      "metadata": {
        "colab": {
          "base_uri": "https://localhost:8080/"
        },
        "id": "fVzc0b-DFiaG",
        "outputId": "2e39d6b3-bac8-423e-a83c-0ee40d2ff2ae"
      },
      "source": [
        "## Predictions\r\n",
        "y_pred = knn_model.predict(X_train)\r\n",
        "\r\n",
        "print(\"Training set Accuracy: \", accuracy_score(y_train, y_pred))"
      ],
      "execution_count": 15,
      "outputs": [
        {
          "output_type": "stream",
          "text": [
            "Training set Accuracy:  0.8916666666666667\n"
          ],
          "name": "stdout"
        }
      ]
    },
    {
      "cell_type": "code",
      "metadata": {
        "colab": {
          "base_uri": "https://localhost:8080/"
        },
        "id": "RB_ZZDA3Fift",
        "outputId": "b29e3971-56b1-48f1-d65e-9322b3181445"
      },
      "source": [
        "## Cross validation scores\r\n",
        "from sklearn.model_selection import cross_val_score\r\n",
        "scores = cross_val_score(knn_model, X_train, y_train, cv=10, scoring=\"accuracy\")\r\n",
        "scores"
      ],
      "execution_count": 16,
      "outputs": [
        {
          "output_type": "execute_result",
          "data": {
            "text/plain": [
              "array([0.77083333, 0.80208333, 0.85416667, 0.86458333, 0.8125    ,\n",
              "       0.82291667, 0.73958333, 0.8125    , 0.83333333, 0.88541667])"
            ]
          },
          "metadata": {
            "tags": []
          },
          "execution_count": 16
        }
      ]
    },
    {
      "cell_type": "code",
      "metadata": {
        "colab": {
          "base_uri": "https://localhost:8080/",
          "height": 296
        },
        "id": "rc-5mGLVFil-",
        "outputId": "57844d63-a3fd-4f4d-8c8c-2f1eae7960ff"
      },
      "source": [
        "## Try different K \r\n",
        "\r\n",
        "Ks = 30\r\n",
        "mean_acc = np.zeros((Ks-1))\r\n",
        "std_acc = np.zeros((Ks-1))\r\n",
        "ConfustionMx = [];\r\n",
        "for n in range(1,Ks):\r\n",
        "    KNN= KNeighborsClassifier(n_neighbors = n)\r\n",
        "    #Train Model and Predict  \r\n",
        "    neigh = KNN.fit(X_train,y_train)\r\n",
        "    yhat=neigh.predict(X_train)\r\n",
        "    mean_acc[n-1] = accuracy_score(y_train, yhat)\r\n",
        "\r\n",
        "    \r\n",
        "    std_acc[n-1]=np.std(yhat==y_train)/np.sqrt(yhat.shape[0])\r\n",
        "\r\n",
        "mean_acc\r\n",
        "plt.plot(range(1,Ks),mean_acc,'g')\r\n",
        "plt.fill_between(range(1,Ks),mean_acc - 1 * std_acc,mean_acc + 1 * std_acc, alpha=0.10)\r\n",
        "plt.legend(('Accuracy ', '+/- 3xstd'))\r\n",
        "plt.ylabel('Accuracy ')\r\n",
        "plt.xlabel('Number of Nabors (K)')\r\n",
        "plt.tight_layout()\r\n",
        "plt.show()"
      ],
      "execution_count": 17,
      "outputs": [
        {
          "output_type": "display_data",
          "data": {
            "image/png": "[encoded data removed]",
            "text/plain": [
              "<Figure size 432x288 with 1 Axes>"
            ]
          },
          "metadata": {
            "tags": [],
            "needs_background": "light"
          }
        }
      ]
    },
    {
      "cell_type": "code",
      "metadata": {
        "colab": {
          "base_uri": "https://localhost:8080/",
          "height": 422
        },
        "id": "93-hkCW2Fiv7",
        "outputId": "5ef58c19-5981-4a27-944b-4d444451ba6e"
      },
      "source": [
        "## Compute the error rate\r\n",
        "error_rate = []\r\n",
        "for i in range(1,30):\r\n",
        " knn = KNeighborsClassifier(n_neighbors=i)\r\n",
        " knn.fit(X_train,y_train)\r\n",
        " pred_i = knn.predict(X_test)\r\n",
        " error_rate.append(np.mean(pred_i != y_test))\r\n",
        "\r\n",
        "plt.figure(figsize=(10,6))\r\n",
        "plt.plot(range(1,30),error_rate,color='blue', linestyle='dashed', \r\n",
        "         marker='o',markerfacecolor='red', markersize=10)\r\n",
        "plt.title('Error Rate vs. K Value')\r\n",
        "plt.xlabel('K')\r\n",
        "plt.ylabel('Error Rate')\r\n",
        "print(\"Minimum error:-\",min(error_rate),\"at K =\",error_rate.index(min(error_rate)))"
      ],
      "execution_count": 18,
      "outputs": [
        {
          "output_type": "stream",
          "text": [
            "Minimum error:- 0.1950207468879668 at K = 24\n"
          ],
          "name": "stdout"
        },
        {
          "output_type": "display_data",
          "data": {
            "image/png": "[encoded data removed]",
            "text/plain": [
              "<Figure size 720x432 with 1 Axes>"
            ]
          },
          "metadata": {
            "tags": [],
            "needs_background": "light"
          }
        }
      ]
    },
    {
      "cell_type": "code",
      "metadata": {
        "colab": {
          "base_uri": "https://localhost:8080/"
        },
        "id": "CkP7GlJlFi11",
        "outputId": "124f6ac5-01cd-4858-e15c-34bce5cbbb58"
      },
      "source": [
        "## I will chose to work with 25 K neighbors\r\n",
        "K = 25\r\n",
        "knn_best = KNeighborsClassifier(n_neighbors=K)\r\n",
        "knn_best"
      ],
      "execution_count": 19,
      "outputs": [
        {
          "output_type": "execute_result",
          "data": {
            "text/plain": [
              "KNeighborsClassifier(algorithm='auto', leaf_size=30, metric='minkowski',\n",
              "                     metric_params=None, n_jobs=None, n_neighbors=25, p=2,\n",
              "                     weights='uniform')"
            ]
          },
          "metadata": {
            "tags": []
          },
          "execution_count": 19
        }
      ]
    },
    {
      "cell_type": "code",
      "metadata": {
        "colab": {
          "base_uri": "https://localhost:8080/"
        },
        "id": "fqH6VlWwFjDt",
        "outputId": "84b26b07-5644-4c95-e477-ddc33554716c"
      },
      "source": [
        "## Fit the new model\r\n",
        "knn_best.fit(X_train, y_train)"
      ],
      "execution_count": 20,
      "outputs": [
        {
          "output_type": "execute_result",
          "data": {
            "text/plain": [
              "KNeighborsClassifier(algorithm='auto', leaf_size=30, metric='minkowski',\n",
              "                     metric_params=None, n_jobs=None, n_neighbors=25, p=2,\n",
              "                     weights='uniform')"
            ]
          },
          "metadata": {
            "tags": []
          },
          "execution_count": 20
        }
      ]
    },
    {
      "cell_type": "code",
      "metadata": {
        "colab": {
          "base_uri": "https://localhost:8080/"
        },
        "id": "aLDYTJBRFjJF",
        "outputId": "1d0971d9-8b4d-469b-f5ad-b021021acff7"
      },
      "source": [
        "## Predictions\r\n",
        "y_pred = knn_best.predict(X_train)\r\n",
        "\r\n",
        "print(\"Train set Accuracy\", accuracy_score(y_train, y_pred))"
      ],
      "execution_count": 21,
      "outputs": [
        {
          "output_type": "stream",
          "text": [
            "Train set Accuracy 0.8552083333333333\n"
          ],
          "name": "stdout"
        }
      ]
    },
    {
      "cell_type": "code",
      "metadata": {
        "colab": {
          "base_uri": "https://localhost:8080/"
        },
        "id": "hulamwbNFjYw",
        "outputId": "1c687076-d2c5-4138-b9b6-0658d3dc3f72"
      },
      "source": [
        "## Test set Accuracy\r\n",
        "y_test_pred = knn_best.predict(X_test)\r\n",
        "\r\n",
        "print(\"Test set Accuracy:\", accuracy_score(y_test, y_test_pred))"
      ],
      "execution_count": 22,
      "outputs": [
        {
          "output_type": "stream",
          "text": [
            "Test set Accuracy: 0.8049792531120332\n"
          ],
          "name": "stdout"
        }
      ]
    },
    {
      "cell_type": "code",
      "metadata": {
        "id": "5jUJllZTQx4x",
        "colab": {
          "base_uri": "https://localhost:8080/"
        },
        "outputId": "b02e2eec-0df4-4d24-8096-b5e53abbbaf1"
      },
      "source": [
        "# Classification report\r\n",
        "print(\"Classification report\")\r\n",
        "print(classification_report(y_test,y_test_pred))"
      ],
      "execution_count": 23,
      "outputs": [
        {
          "output_type": "stream",
          "text": [
            "Classification report\n",
            "              precision    recall  f1-score   support\n",
            "\n",
            "           0       0.96      0.62      0.76        40\n",
            "           1       0.60      0.90      0.72        29\n",
            "           2       0.74      0.81      0.77        21\n",
            "           3       0.66      0.78      0.71        32\n",
            "           4       0.83      0.56      0.67        34\n",
            "           5       1.00      0.92      0.96        24\n",
            "           6       0.90      1.00      0.95        28\n",
            "           7       0.91      0.97      0.94        33\n",
            "\n",
            "    accuracy                           0.80       241\n",
            "   macro avg       0.83      0.82      0.81       241\n",
            "weighted avg       0.83      0.80      0.80       241\n",
            "\n"
          ],
          "name": "stdout"
        }
      ]
    },
    {
      "cell_type": "code",
      "metadata": {
        "id": "ot4xqJezQyEB",
        "colab": {
          "base_uri": "https://localhost:8080/",
          "height": 346
        },
        "outputId": "2a986dd9-ca10-495c-fc54-0ba5aa6c3adb"
      },
      "source": [
        "## Confusion matrix\r\n",
        "encode = {'Admin':0, 'Analyst':1, 'cleaner':2, 'Finance':3, 'hospitality':4,\r\n",
        "       'recruitment':5, 'Warehouse':6, 'web developer':7}\r\n",
        "labels = [i for i in encode]\r\n",
        "cf_matrix = confusion_matrix(y_test, y_test_pred)\r\n",
        "sns.heatmap(cf_matrix, linewidths=1, annot=True, fmt='g', xticklabels=labels, yticklabels=labels)"
      ],
      "execution_count": 24,
      "outputs": [
        {
          "output_type": "execute_result",
          "data": {
            "text/plain": [
              "<matplotlib.axes._subplots.AxesSubplot at 0x7f794fca6090>"
            ]
          },
          "metadata": {
            "tags": []
          },
          "execution_count": 24
        },
        {
          "output_type": "display_data",
          "data": {
            "image/png": "[encoded data removed]",
            "text/plain": [
              "<Figure size 432x288 with 2 Axes>"
            ]
          },
          "metadata": {
            "tags": [],
            "needs_background": "light"
          }
        }
      ]
    },
    {
      "cell_type": "code",
      "metadata": {
        "id": "l5gX7A9UQyLE",
        "colab": {
          "base_uri": "https://localhost:8080/",
          "height": 77
        },
        "outputId": "3ccb140f-eac5-4b79-a264-6eb9652d8d09"
      },
      "source": [
        "## Create a data frame with the model's training, test set accuracy\r\n",
        "D = {\r\n",
        "     'Model': 'KNN',\r\n",
        "     'Train Set Accuracy': accuracy_score(y_train,knn_best.predict(X_train)),\r\n",
        "     'Test Set Accuracy': accuracy_score(y_test, y_test_pred)\r\n",
        "}\r\n",
        "\r\n",
        "knn_df = pd.DataFrame(D, index=[0])\r\n",
        "knn_df"
      ],
      "execution_count": 25,
      "outputs": [
        {
          "output_type": "execute_result",
          "data": {
            "text/html": [
              "<div>\n",
              "<style scoped>\n",
              "    .dataframe tbody tr th:only-of-type {\n",
              "        vertical-align: middle;\n",
              "    }\n",
              "\n",
              "    .dataframe tbody tr th {\n",
              "        vertical-align: top;\n",
              "    }\n",
              "\n",
              "    .dataframe thead th {\n",
              "        text-align: right;\n",
              "    }\n",
              "</style>\n",
              "<table border=\"1\" class=\"dataframe\">\n",
              "  <thead>\n",
              "    <tr style=\"text-align: right;\">\n",
              "      <th></th>\n",
              "      <th>Model</th>\n",
              "      <th>Train Set Accuracy</th>\n",
              "      <th>Test Set Accuracy</th>\n",
              "    </tr>\n",
              "  </thead>\n",
              "  <tbody>\n",
              "    <tr>\n",
              "      <th>0</th>\n",
              "      <td>KNN</td>\n",
              "      <td>0.855208</td>\n",
              "      <td>0.804979</td>\n",
              "    </tr>\n",
              "  </tbody>\n",
              "</table>\n",
              "</div>"
            ],
            "text/plain": [
              "  Model  Train Set Accuracy  Test Set Accuracy\n",
              "0   KNN            0.855208           0.804979"
            ]
          },
          "metadata": {
            "tags": []
          },
          "execution_count": 25
        }
      ]
    },
    {
      "cell_type": "code",
      "metadata": {
        "id": "QB5pVueBFjfD"
      },
      "source": [
        "## Save the model and the dataframe\r\n",
        "## Save the model\r\n",
        "with open('/content/model_data/best_knn.pickle', 'wb') as output:\r\n",
        "    pickle.dump(knn_best, output)\r\n",
        "\r\n",
        "## Save the data frame\r\n",
        "with open('/content/model_data/knn_df.pickle', 'wb') as output:\r\n",
        "  pickle.dump(knn_df, output)"
      ],
      "execution_count": 26,
      "outputs": []
    },
    {
      "cell_type": "code",
      "metadata": {
        "id": "B-_AFFPGFjmO"
      },
      "source": [
        ""
      ],
      "execution_count": null,
      "outputs": []
    }
  ]
}