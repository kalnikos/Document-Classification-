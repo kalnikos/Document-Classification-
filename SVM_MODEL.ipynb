{
  "nbformat": 4,
  "nbformat_minor": 0,
  "metadata": {
    "colab": {
      "name": "Untitled5.ipynb",
      "provenance": [],
      "mount_file_id": "1L1ikKj_IdqpG85Nrihy_cype4wtTcIOe",
      "authorship_tag": "ABX9TyMatnF/h2K+yMzVqVelQKxG",
      "include_colab_link": true
    },
    "kernelspec": {
      "name": "python3",
      "display_name": "Python 3"
    }
  },
  "cells": [
    {
      "cell_type": "markdown",
      "metadata": {
        "id": "view-in-github",
        "colab_type": "text"
      },
      "source": [
        "<a href=\"https://colab.research.google.com/github/kalnikos/Document-Classification-/blob/main/SVM_MODEL.ipynb\" target=\"_parent\"><img src=\"https://colab.research.google.com/assets/colab-badge.svg\" alt=\"Open In Colab\"/></a>"
      ]
    },
    {
      "cell_type": "markdown",
      "metadata": {
        "id": "Wsd80BtOmT3d"
      },
      "source": [
        "### **Develop a SVM model**\r\n"
      ]
    },
    {
      "cell_type": "code",
      "metadata": {
        "id": "3cC_VSw1qnf1"
      },
      "source": [
        "import numpy as np\r\n",
        "import pandas as pd\r\n",
        "import pickle\r\n",
        "from zipfile import ZipFile\r\n",
        "from sklearn.metrics import accuracy_score\r\n",
        "from sklearn.model_selection import cross_val_score\r\n",
        "from sklearn.metrics import classification_report, confusion_matrix, accuracy_score\r\n",
        "import seaborn as sns\r\n",
        "from sklearn.metrics import confusion_matrix\r\n",
        "from sklearn.model_selection import ShuffleSplit"
      ],
      "execution_count": 16,
      "outputs": []
    },
    {
      "cell_type": "code",
      "metadata": {
        "colab": {
          "base_uri": "https://localhost:8080/"
        },
        "id": "e4wWPDq4QpnH",
        "outputId": "3c83c016-032b-413d-812f-2280a2034e67"
      },
      "source": [
        "files = \"/content/model_data.zip\"\r\n",
        "\r\n",
        "with ZipFile(files, 'r') as zip:\r\n",
        "  zip.extractall()\r\n",
        "  print('Done')"
      ],
      "execution_count": 2,
      "outputs": [
        {
          "output_type": "stream",
          "text": [
            "Done\n"
          ],
          "name": "stdout"
        }
      ]
    },
    {
      "cell_type": "code",
      "metadata": {
        "id": "QImiLyh5UTZ_"
      },
      "source": [
        "## Read the different data parts\r\n",
        "path_df = \"/content/model_data/df.pickle\"\r\n",
        "with open(path_df, 'rb') as data:\r\n",
        "    df = pickle.load(data)\r\n",
        "\r\n",
        "path_X_train = \"/content/model_data/X_train.pickle\"\r\n",
        "with open(path_X_train, 'rb') as data:\r\n",
        "    X_train = pickle.load(data)\r\n",
        "\r\n",
        "path_X_test = \"/content/model_data/X_test.pickle\"\r\n",
        "with open(path_X_test, 'rb') as data:\r\n",
        "    X_test = pickle.load(data)\r\n",
        "\r\n",
        "path_y_train = \"/content/model_data/y_train.pickle\"\r\n",
        "with open(path_y_train, 'rb') as data:\r\n",
        "    y_train = pickle.load(data)\r\n",
        "\r\n",
        "path_y_test = \"/content/model_data/y_test.pickle\"\r\n",
        "with open(path_y_test, 'rb') as data:\r\n",
        "    y_test = pickle.load(data)"
      ],
      "execution_count": 3,
      "outputs": []
    },
    {
      "cell_type": "code",
      "metadata": {
        "colab": {
          "base_uri": "https://localhost:8080/"
        },
        "id": "p7s5poumUTkr",
        "outputId": "2178f68c-ef0a-4066-ac54-8b402d90cf44"
      },
      "source": [
        "print(X_train.shape)\r\n",
        "print(X_test.shape)"
      ],
      "execution_count": 4,
      "outputs": [
        {
          "output_type": "stream",
          "text": [
            "(1080, 293)\n",
            "(121, 293)\n"
          ],
          "name": "stdout"
        }
      ]
    },
    {
      "cell_type": "code",
      "metadata": {
        "colab": {
          "base_uri": "https://localhost:8080/"
        },
        "id": "46qrCFe6UTqb",
        "outputId": "9878fab0-1b1d-4155-cb3f-d4f484e1e339"
      },
      "source": [
        "## Train a SVM model\r\n",
        "from sklearn import svm\r\n",
        "svc_model =svm.SVC(random_state=42)\r\n",
        "svc_model"
      ],
      "execution_count": 7,
      "outputs": [
        {
          "output_type": "execute_result",
          "data": {
            "text/plain": [
              "SVC(C=1.0, break_ties=False, cache_size=200, class_weight=None, coef0=0.0,\n",
              "    decision_function_shape='ovr', degree=3, gamma='scale', kernel='rbf',\n",
              "    max_iter=-1, probability=False, random_state=42, shrinking=True, tol=0.001,\n",
              "    verbose=False)"
            ]
          },
          "metadata": {
            "tags": []
          },
          "execution_count": 7
        }
      ]
    },
    {
      "cell_type": "code",
      "metadata": {
        "colab": {
          "base_uri": "https://localhost:8080/"
        },
        "id": "ia_34sIMUT8b",
        "outputId": "3a8bc887-862b-488b-95b8-6bb2f0176bcf"
      },
      "source": [
        "## Fit the model\r\n",
        "svc_model.fit(X_train, y_train)"
      ],
      "execution_count": 8,
      "outputs": [
        {
          "output_type": "execute_result",
          "data": {
            "text/plain": [
              "SVC(C=1.0, break_ties=False, cache_size=200, class_weight=None, coef0=0.0,\n",
              "    decision_function_shape='ovr', degree=3, gamma='scale', kernel='rbf',\n",
              "    max_iter=-1, probability=False, random_state=42, shrinking=True, tol=0.001,\n",
              "    verbose=False)"
            ]
          },
          "metadata": {
            "tags": []
          },
          "execution_count": 8
        }
      ]
    },
    {
      "cell_type": "code",
      "metadata": {
        "colab": {
          "base_uri": "https://localhost:8080/"
        },
        "id": "zsNKqjEbUUCR",
        "outputId": "8e53b627-ccc9-4aa8-9e58-7247de43fedb"
      },
      "source": [
        "## Pedictions\r\n",
        "from sklearn.metrics import classification_report, confusion_matrix, accuracy_score\r\n",
        "y_pred = svc_model.predict(X_train)\r\n",
        "\r\n",
        "## Training set Accuracy\r\n",
        "print(\"Training set Accuracy is: \",accuracy_score(y_train, y_pred))"
      ],
      "execution_count": 9,
      "outputs": [
        {
          "output_type": "stream",
          "text": [
            "Training set Accuracy is:  0.9925925925925926\n"
          ],
          "name": "stdout"
        }
      ]
    },
    {
      "cell_type": "code",
      "metadata": {
        "id": "UN5cgeP8UUIp",
        "colab": {
          "base_uri": "https://localhost:8080/"
        },
        "outputId": "6988daf2-793f-4fda-ac58-64de9ce7ecee"
      },
      "source": [
        "## Cross validation scores\r\n",
        "from sklearn.model_selection import cross_val_score\r\n",
        "scores = cross_val_score(svc_model, X_train, y_train, cv=10, scoring=\"accuracy\")\r\n",
        "scores"
      ],
      "execution_count": 10,
      "outputs": [
        {
          "output_type": "execute_result",
          "data": {
            "text/plain": [
              "array([0.87962963, 0.87962963, 0.90740741, 0.83333333, 0.87962963,\n",
              "       0.94444444, 0.84259259, 0.84259259, 0.89814815, 0.89814815])"
            ]
          },
          "metadata": {
            "tags": []
          },
          "execution_count": 10
        }
      ]
    },
    {
      "cell_type": "markdown",
      "metadata": {
        "id": "KlNShcNbW_1w"
      },
      "source": [
        "## Tune the parameters\r\n",
        "### We'll tune the following ones:\r\n",
        "\r\n",
        "### C: Penalty parameter C of the error term.\r\n",
        "### kernel: Specifies the kernel type.\r\n",
        "### gamma: Kernel coefficient.\r\n",
        "### degree: Degree of the polynomial kernel function."
      ]
    },
    {
      "cell_type": "code",
      "metadata": {
        "colab": {
          "base_uri": "https://localhost:8080/"
        },
        "id": "jgYE-BjJUUXJ",
        "outputId": "5fa6f902-e89d-4b27-928e-77c1cfa0013f"
      },
      "source": [
        "# C\r\n",
        "C = [.0001, .001, .01]\r\n",
        "\r\n",
        "# gamma\r\n",
        "gamma = [.0001, .001, .01, .1, 1, 10, 100]\r\n",
        "\r\n",
        "# degree\r\n",
        "#degree = [1, 2, 3, 4, 5]\r\n",
        "\r\n",
        "# kernel\r\n",
        "kernel = ['linear', 'rbf', 'poly']\r\n",
        "\r\n",
        "# probability\r\n",
        "probability = [True]\r\n",
        "\r\n",
        "# Create the random grid\r\n",
        "random_grid = {'C': C,\r\n",
        "              'kernel': kernel,\r\n",
        "              'gamma': gamma,\r\n",
        "              #'degree': degree,\r\n",
        "              'probability': probability\r\n",
        "             }\r\n",
        "\r\n",
        "print(random_grid)"
      ],
      "execution_count": 11,
      "outputs": [
        {
          "output_type": "stream",
          "text": [
            "{'C': [0.0001, 0.001, 0.01], 'kernel': ['linear', 'rbf', 'poly'], 'gamma': [0.0001, 0.001, 0.01, 0.1, 1, 10, 100], 'probability': [True]}\n"
          ],
          "name": "stdout"
        }
      ]
    },
    {
      "cell_type": "code",
      "metadata": {
        "id": "sgPB0vk9UUev"
      },
      "source": [
        "# Random search\r\n",
        "from sklearn.model_selection import RandomizedSearchCV\r\n",
        "from sklearn.model_selection import GridSearchCV\r\n",
        "random_search = RandomizedSearchCV(estimator=svc_model,\r\n",
        "                                   param_distributions=random_grid,\r\n",
        "                                   n_iter=50,\r\n",
        "                                   scoring='accuracy',\r\n",
        "                                   cv=3, \r\n",
        "                                   verbose=1, \r\n",
        "                                   random_state=42)\r\n"
      ],
      "execution_count": 13,
      "outputs": []
    },
    {
      "cell_type": "code",
      "metadata": {
        "id": "A3o0q6fFtg-S",
        "outputId": "1bd5d434-e78d-42e1-e141-f517cda1caf6",
        "colab": {
          "base_uri": "https://localhost:8080/"
        }
      },
      "source": [
        "\r\n",
        "# Fit the random search model\r\n",
        "random_search.fit(X_train, y_train)\r\n",
        "\r\n",
        "print(\"The best hyperparameters from Random Search are:\")\r\n",
        "print(random_search.best_params_)\r\n",
        "print(\"\")\r\n",
        "print(\"The mean accuracy of a model with these hyperparameters is:\")\r\n",
        "print(random_search.best_score_)"
      ],
      "execution_count": 14,
      "outputs": [
        {
          "output_type": "stream",
          "text": [
            "Fitting 3 folds for each of 50 candidates, totalling 150 fits\n"
          ],
          "name": "stdout"
        },
        {
          "output_type": "stream",
          "text": [
            "[Parallel(n_jobs=1)]: Using backend SequentialBackend with 1 concurrent workers.\n",
            "[Parallel(n_jobs=1)]: Done 150 out of 150 | elapsed:  5.3min finished\n"
          ],
          "name": "stderr"
        },
        {
          "output_type": "stream",
          "text": [
            "The best hyperparameters from Random Search are:\n",
            "{'probability': True, 'kernel': 'poly', 'gamma': 100, 'C': 0.001}\n",
            "\n",
            "The mean accuracy of a model with these hyperparameters is:\n",
            "0.7287037037037036\n"
          ],
          "name": "stdout"
        }
      ]
    },
    {
      "cell_type": "code",
      "metadata": {
        "id": "Rg7-HXtDUUsI",
        "colab": {
          "base_uri": "https://localhost:8080/"
        },
        "outputId": "82ef3d88-dce4-4aa6-9709-4318c6539e38"
      },
      "source": [
        "# Create the parameter grid based on the results of random search \r\n",
        "C = [.0001, .001, .01, .1]\r\n",
        "degree = [3, 4, 5]\r\n",
        "gamma = [1, 10, 100]\r\n",
        "probability = [True]\r\n",
        "\r\n",
        "param_grid = [\r\n",
        "  {'C': C, 'kernel':['linear'], 'probability':probability},\r\n",
        "  {'C': C, 'kernel':['poly'], 'degree':degree, 'probability':probability},\r\n",
        "  {'C': C, 'kernel':['rbf'], 'gamma':gamma, 'probability':probability}\r\n",
        "]\r\n",
        "\r\n",
        "\r\n",
        "\r\n",
        "# Manually create the splits in CV in order to be able to fix a random_state (GridSearchCV doesn't have that argument)\r\n",
        "cv_sets = ShuffleSplit(n_splits = 3, test_size = .10, random_state = 42)\r\n",
        "\r\n",
        "# Instantiate the grid search model\r\n",
        "grid_search = GridSearchCV(estimator=svc_model, \r\n",
        "                           param_grid=param_grid,\r\n",
        "                           scoring='accuracy',\r\n",
        "                           cv=cv_sets,\r\n",
        "                           verbose=1)\r\n",
        "\r\n",
        "# Fit the grid search to the data\r\n",
        "grid_search.fit(X_train, y_train)"
      ],
      "execution_count": 17,
      "outputs": [
        {
          "output_type": "stream",
          "text": [
            "Fitting 3 folds for each of 28 candidates, totalling 84 fits\n"
          ],
          "name": "stdout"
        },
        {
          "output_type": "stream",
          "text": [
            "[Parallel(n_jobs=1)]: Using backend SequentialBackend with 1 concurrent workers.\n",
            "[Parallel(n_jobs=1)]: Done  84 out of  84 | elapsed:  5.2min finished\n"
          ],
          "name": "stderr"
        },
        {
          "output_type": "execute_result",
          "data": {
            "text/plain": [
              "GridSearchCV(cv=ShuffleSplit(n_splits=3, random_state=42, test_size=0.1, train_size=None),\n",
              "             error_score=nan,\n",
              "             estimator=SVC(C=1.0, break_ties=False, cache_size=200,\n",
              "                           class_weight=None, coef0=0.0,\n",
              "                           decision_function_shape='ovr', degree=3,\n",
              "                           gamma='scale', kernel='rbf', max_iter=-1,\n",
              "                           probability=False, random_state=42, shrinking=True,\n",
              "                           tol=0.001, verbose=False),\n",
              "             iid='deprecated...one,\n",
              "             param_grid=[{'C': [0.0001, 0.001, 0.01, 0.1], 'kernel': ['linear'],\n",
              "                          'probability': [True]},\n",
              "                         {'C': [0.0001, 0.001, 0.01, 0.1], 'degree': [3, 4, 5],\n",
              "                          'kernel': ['poly'], 'probability': [True]},\n",
              "                         {'C': [0.0001, 0.001, 0.01, 0.1],\n",
              "                          'gamma': [1, 10, 100], 'kernel': ['rbf'],\n",
              "                          'probability': [True]}],\n",
              "             pre_dispatch='2*n_jobs', refit=True, return_train_score=False,\n",
              "             scoring='accuracy', verbose=1)"
            ]
          },
          "metadata": {
            "tags": []
          },
          "execution_count": 17
        }
      ]
    },
    {
      "cell_type": "code",
      "metadata": {
        "id": "w0jPOl30h3VG",
        "outputId": "a497321b-3182-40fc-b087-f467323a6a2b",
        "colab": {
          "base_uri": "https://localhost:8080/"
        }
      },
      "source": [
        "print(\"The best hyperparameters from Grid Search are:\")\r\n",
        "print(grid_search.best_params_)\r\n",
        "print(\"\")\r\n",
        "print(\"The mean accuracy of a model with these hyperparameters is:\")\r\n",
        "print(grid_search.best_score_)"
      ],
      "execution_count": 18,
      "outputs": [
        {
          "output_type": "stream",
          "text": [
            "The best hyperparameters from Grid Search are:\n",
            "{'C': 0.1, 'kernel': 'linear', 'probability': True}\n",
            "\n",
            "The mean accuracy of a model with these hyperparameters is:\n",
            "0.8395061728395062\n"
          ],
          "name": "stdout"
        }
      ]
    },
    {
      "cell_type": "code",
      "metadata": {
        "id": "ML5xXjpziI4Y",
        "outputId": "2c00ed93-0f5d-4f4c-f4ab-e91aee5ae8c5",
        "colab": {
          "base_uri": "https://localhost:8080/"
        }
      },
      "source": [
        "best_svc_model = grid_search.best_estimator_\r\n",
        "best_svc_model"
      ],
      "execution_count": 21,
      "outputs": [
        {
          "output_type": "execute_result",
          "data": {
            "text/plain": [
              "SVC(C=0.1, break_ties=False, cache_size=200, class_weight=None, coef0=0.0,\n",
              "    decision_function_shape='ovr', degree=3, gamma='scale', kernel='linear',\n",
              "    max_iter=-1, probability=True, random_state=42, shrinking=True, tol=0.001,\n",
              "    verbose=False)"
            ]
          },
          "metadata": {
            "tags": []
          },
          "execution_count": 21
        }
      ]
    },
    {
      "cell_type": "code",
      "metadata": {
        "id": "g1YZ32RbiJId",
        "outputId": "1cb6c1e0-2d10-4ce8-df85-49ce2ecc1aff",
        "colab": {
          "base_uri": "https://localhost:8080/"
        }
      },
      "source": [
        "## Fit the model\r\n",
        "best_svc_model.fit(X_train, y_train)"
      ],
      "execution_count": 22,
      "outputs": [
        {
          "output_type": "execute_result",
          "data": {
            "text/plain": [
              "SVC(C=0.1, break_ties=False, cache_size=200, class_weight=None, coef0=0.0,\n",
              "    decision_function_shape='ovr', degree=3, gamma='scale', kernel='linear',\n",
              "    max_iter=-1, probability=True, random_state=42, shrinking=True, tol=0.001,\n",
              "    verbose=False)"
            ]
          },
          "metadata": {
            "tags": []
          },
          "execution_count": 22
        }
      ]
    },
    {
      "cell_type": "code",
      "metadata": {
        "id": "kqFHRqEEiJVZ",
        "outputId": "88015190-52c1-4644-9755-d160848f31e8",
        "colab": {
          "base_uri": "https://localhost:8080/"
        }
      },
      "source": [
        "## Predictions \r\n",
        "y_pred = best_svc_model.predict(X_train)\r\n",
        "\r\n",
        "## Acuraccy\r\n",
        "print(\"Train set Accuracy:\",accuracy_score(y_train, y_pred))"
      ],
      "execution_count": 24,
      "outputs": [
        {
          "output_type": "stream",
          "text": [
            "Train set Accuracy: 0.8759259259259259\n"
          ],
          "name": "stdout"
        }
      ]
    },
    {
      "cell_type": "code",
      "metadata": {
        "id": "6DdO_lp2jFX5",
        "outputId": "8063f839-61d2-414a-a10d-f5a3b3ec756b",
        "colab": {
          "base_uri": "https://localhost:8080/"
        }
      },
      "source": [
        "## Test set Accuracy\r\n",
        "y_test_pred = best_svc_model.predict(X_test)\r\n",
        "\r\n",
        "print(\"Test set Accuracy:\", accuracy_score(y_test, y_test_pred))"
      ],
      "execution_count": 25,
      "outputs": [
        {
          "output_type": "stream",
          "text": [
            "Test set Accuracy: 0.8264462809917356\n"
          ],
          "name": "stdout"
        }
      ]
    },
    {
      "cell_type": "code",
      "metadata": {
        "id": "24i6Y5ATjFh1",
        "outputId": "8e8bca9a-95e6-4fb9-9fe9-0240da75f83b",
        "colab": {
          "base_uri": "https://localhost:8080/"
        }
      },
      "source": [
        "# Classification report\r\n",
        "print(\"Classification report\")\r\n",
        "print(classification_report(y_test,y_test_pred))"
      ],
      "execution_count": 26,
      "outputs": [
        {
          "output_type": "stream",
          "text": [
            "Classification report\n",
            "              precision    recall  f1-score   support\n",
            "\n",
            "           0       0.59      0.81      0.68        16\n",
            "           1       0.69      0.90      0.78        10\n",
            "           2       1.00      0.71      0.83        14\n",
            "           3       0.75      0.86      0.80        14\n",
            "           4       0.73      0.73      0.73        15\n",
            "           5       1.00      0.73      0.85        15\n",
            "           6       1.00      0.91      0.95        23\n",
            "           7       1.00      0.93      0.96        14\n",
            "\n",
            "    accuracy                           0.83       121\n",
            "   macro avg       0.85      0.82      0.82       121\n",
            "weighted avg       0.86      0.83      0.83       121\n",
            "\n"
          ],
          "name": "stdout"
        }
      ]
    },
    {
      "cell_type": "code",
      "metadata": {
        "id": "AQ4auZ-ejFpY",
        "outputId": "5c009721-ddef-4943-cce5-2578b417ba78",
        "colab": {
          "base_uri": "https://localhost:8080/",
          "height": 346
        }
      },
      "source": [
        "## Confusion matrix\r\n",
        "encode = {'Admin':0, 'Analyst':1, 'cleaner':2, 'Finance':3, 'hospitality':4,\r\n",
        "       'recruitment':5, 'Warehouse':6, 'web developer':7}\r\n",
        "labels = [i for i in encode]\r\n",
        "cf_matrix = confusion_matrix(y_test, y_test_pred)\r\n",
        "sns.heatmap(cf_matrix, linewidths=1, annot=True, fmt='g', xticklabels=labels, yticklabels=labels)"
      ],
      "execution_count": 27,
      "outputs": [
        {
          "output_type": "execute_result",
          "data": {
            "text/plain": [
              "<matplotlib.axes._subplots.AxesSubplot at 0x7f298ebfdcf8>"
            ]
          },
          "metadata": {
            "tags": []
          },
          "execution_count": 27
        },
        {
          "output_type": "display_data",
          "data": {
            "image/png": "[encoded data removed]",
            "text/plain": [
              "<Figure size 432x288 with 2 Axes>"
            ]
          },
          "metadata": {
            "tags": [],
            "needs_background": "light"
          }
        }
      ]
    },
    {
      "cell_type": "code",
      "metadata": {
        "id": "EYUTtJOQkXjq",
        "outputId": "04bc91c0-c281-4f0c-c6ce-3b0958d55467",
        "colab": {
          "base_uri": "https://localhost:8080/",
          "height": 77
        }
      },
      "source": [
        "## Create a data freme with the model train, test set accuracy\r\n",
        "D = {\r\n",
        "     'Model': 'SVM',\r\n",
        "     'Train Set Accuracy': accuracy_score(y_train,best_svc_model.predict(X_train)),\r\n",
        "     'Test Set Accuracy': accuracy_score(y_test, y_test_pred)\r\n",
        "}\r\n",
        "\r\n",
        "svm_df = pd.DataFrame(D, index=[0])\r\n",
        "svm_df"
      ],
      "execution_count": 33,
      "outputs": [
        {
          "output_type": "execute_result",
          "data": {
            "text/html": [
              "<div>\n",
              "<style scoped>\n",
              "    .dataframe tbody tr th:only-of-type {\n",
              "        vertical-align: middle;\n",
              "    }\n",
              "\n",
              "    .dataframe tbody tr th {\n",
              "        vertical-align: top;\n",
              "    }\n",
              "\n",
              "    .dataframe thead th {\n",
              "        text-align: right;\n",
              "    }\n",
              "</style>\n",
              "<table border=\"1\" class=\"dataframe\">\n",
              "  <thead>\n",
              "    <tr style=\"text-align: right;\">\n",
              "      <th></th>\n",
              "      <th>Model</th>\n",
              "      <th>Train Set Accuracy</th>\n",
              "      <th>Test Set Accuracy</th>\n",
              "    </tr>\n",
              "  </thead>\n",
              "  <tbody>\n",
              "    <tr>\n",
              "      <th>0</th>\n",
              "      <td>SVM</td>\n",
              "      <td>0.875926</td>\n",
              "      <td>0.826446</td>\n",
              "    </tr>\n",
              "  </tbody>\n",
              "</table>\n",
              "</div>"
            ],
            "text/plain": [
              "  Model  Train Set Accuracy  Test Set Accuracy\n",
              "0   SVM            0.875926           0.826446"
            ]
          },
          "metadata": {
            "tags": []
          },
          "execution_count": 33
        }
      ]
    },
    {
      "cell_type": "code",
      "metadata": {
        "id": "Y6j5LhfikXuZ"
      },
      "source": [
        "## Save the model and the dataframe\r\n",
        "## Save the model\r\n",
        "with open('/content/model_data/best_svm.pickle', 'wb') as output:\r\n",
        "    pickle.dump(best_svc_model, output)\r\n",
        "\r\n",
        "## Save the data frame\r\n",
        "with open('/content/model_data/svm_df.pickle', 'wb') as output:\r\n",
        "  pickle.dump(svm_df, output)"
      ],
      "execution_count": 34,
      "outputs": []
    }
  ]
}