{
  "nbformat": 4,
  "nbformat_minor": 0,
  "metadata": {
    "colab": {
      "name": "Untitled4.ipynb",
      "provenance": [],
      "collapsed_sections": [],
      "authorship_tag": "ABX9TyMeEPWHHddmdicsTyaVBuvH",
      "include_colab_link": true
    },
    "kernelspec": {
      "name": "python3",
      "display_name": "Python 3"
    }
  },
  "cells": [
    {
      "cell_type": "markdown",
      "metadata": {
        "id": "view-in-github",
        "colab_type": "text"
      },
      "source": [
        "<a href=\"https://colab.research.google.com/github/kalnikos/Document-Classification-/blob/main/Multinomial%20logistic%20regression%20model.ipynb\" target=\"_parent\"><img src=\"https://colab.research.google.com/assets/colab-badge.svg\" alt=\"Open In Colab\"/></a>"
      ]
    },
    {
      "cell_type": "code",
      "metadata": {
        "id": "5Hv9Dp17br6C"
      },
      "source": [
        "import numpy as np\r\n",
        "import pandas as pd\r\n",
        "import pickle\r\n",
        "from zipfile import ZipFile\r\n",
        "from sklearn.metrics import accuracy_score\r\n",
        "from sklearn.model_selection import cross_val_score\r\n",
        "from sklearn.metrics import classification_report, confusion_matrix, accuracy_score\r\n",
        "import seaborn as sns\r\n",
        "from sklearn.metrics import confusion_matrix"
      ],
      "execution_count": 20,
      "outputs": []
    },
    {
      "cell_type": "code",
      "metadata": {
        "colab": {
          "base_uri": "https://localhost:8080/"
        },
        "id": "b7tw-Mr4lDtt",
        "outputId": "5d6d02f0-6365-4582-c339-37b0cb965001"
      },
      "source": [
        "file_name = \"/content/model_data.zip\"\r\n",
        "\r\n",
        "with ZipFile(file_name, 'r') as zip:\r\n",
        "  zip.extractall()\r\n",
        "  print('Done')"
      ],
      "execution_count": 3,
      "outputs": [
        {
          "output_type": "stream",
          "text": [
            "Done\n"
          ],
          "name": "stdout"
        }
      ]
    },
    {
      "cell_type": "code",
      "metadata": {
        "id": "X9LIIbVXlDme"
      },
      "source": [
        "## Read the different data parts\r\n",
        "path_df = \"/content/model_data/df.pickle\"\r\n",
        "with open(path_df, 'rb') as data:\r\n",
        "    df = pickle.load(data)\r\n",
        "\r\n",
        "path_X_train = \"/content/model_data/X_train.pickle\"\r\n",
        "with open(path_X_train, 'rb') as data:\r\n",
        "    X_train = pickle.load(data)\r\n",
        "\r\n",
        "path_X_test = \"/content/model_data/X_test.pickle\"\r\n",
        "with open(path_X_test, 'rb') as data:\r\n",
        "    X_test = pickle.load(data)\r\n",
        "\r\n",
        "path_y_train = \"/content/model_data/y_train.pickle\"\r\n",
        "with open(path_y_train, 'rb') as data:\r\n",
        "    y_train = pickle.load(data)\r\n",
        "\r\n",
        "path_y_test = \"/content/model_data/y_test.pickle\"\r\n",
        "with open(path_y_test, 'rb') as data:\r\n",
        "    y_test = pickle.load(data)"
      ],
      "execution_count": 5,
      "outputs": []
    },
    {
      "cell_type": "code",
      "metadata": {
        "colab": {
          "base_uri": "https://localhost:8080/"
        },
        "id": "NTRZ39ywwaLe",
        "outputId": "856093fd-1850-415d-f83e-b3e45e45e8ab"
      },
      "source": [
        "print(X_train.shape)\r\n",
        "print(X_test.shape)\r\n",
        "print(y_train.shape)\r\n",
        "print(y_test.shape)"
      ],
      "execution_count": 9,
      "outputs": [
        {
          "output_type": "stream",
          "text": [
            "(1080, 293)\n",
            "(121, 293)\n",
            "(1080,)\n",
            "(121,)\n"
          ],
          "name": "stdout"
        }
      ]
    },
    {
      "cell_type": "code",
      "metadata": {
        "colab": {
          "base_uri": "https://localhost:8080/"
        },
        "id": "F9I7fQ0CuZ0H",
        "outputId": "823e65af-21c0-4835-f352-a6f4ec074509"
      },
      "source": [
        "from sklearn.linear_model import LogisticRegression\r\n",
        "\r\n",
        "## Base model\r\n",
        "log_model = LogisticRegression(random_state=42)\r\n",
        "print(log_model.get_params())"
      ],
      "execution_count": 12,
      "outputs": [
        {
          "output_type": "stream",
          "text": [
            "{'C': 1.0, 'class_weight': None, 'dual': False, 'fit_intercept': True, 'intercept_scaling': 1, 'l1_ratio': None, 'max_iter': 100, 'multi_class': 'auto', 'n_jobs': None, 'penalty': 'l2', 'random_state': 42, 'solver': 'lbfgs', 'tol': 0.0001, 'verbose': 0, 'warm_start': False}\n"
          ],
          "name": "stdout"
        }
      ]
    },
    {
      "cell_type": "code",
      "metadata": {
        "colab": {
          "base_uri": "https://localhost:8080/"
        },
        "id": "CxPsEpJRuZ_V",
        "outputId": "44acda95-e39c-4c7b-e880-624842fb0938"
      },
      "source": [
        "## Fit the model\r\n",
        "log_model.fit(X_train, y_train)"
      ],
      "execution_count": 13,
      "outputs": [
        {
          "output_type": "execute_result",
          "data": {
            "text/plain": [
              "LogisticRegression(C=1.0, class_weight=None, dual=False, fit_intercept=True,\n",
              "                   intercept_scaling=1, l1_ratio=None, max_iter=100,\n",
              "                   multi_class='auto', n_jobs=None, penalty='l2',\n",
              "                   random_state=42, solver='lbfgs', tol=0.0001, verbose=0,\n",
              "                   warm_start=False)"
            ]
          },
          "metadata": {
            "tags": []
          },
          "execution_count": 13
        }
      ]
    },
    {
      "cell_type": "markdown",
      "metadata": {
        "id": "yA0Pcq6Gyec_"
      },
      "source": [
        "## Multinomial Logistic Regression\r\n",
        "\r\n",
        "---\r\n",
        "\r\n",
        "---\r\n",
        "\r\n",
        "\r\n",
        "\r\n"
      ]
    },
    {
      "cell_type": "code",
      "metadata": {
        "colab": {
          "base_uri": "https://localhost:8080/"
        },
        "id": "bhwtRrQHy_IE",
        "outputId": "310f235a-cc94-4d69-ee14-efa670ea295d"
      },
      "source": [
        "## Predictions\r\n",
        "y_pred = log_model.predict(X_train)\r\n",
        "\r\n",
        "## Train set accuracy\r\n",
        "print(\"Accuracy:\",accuracy_score(y_train, y_pred))"
      ],
      "execution_count": 14,
      "outputs": [
        {
          "output_type": "stream",
          "text": [
            "Accuracy: 0.937962962962963\n"
          ],
          "name": "stdout"
        }
      ]
    },
    {
      "cell_type": "code",
      "metadata": {
        "colab": {
          "base_uri": "https://localhost:8080/"
        },
        "id": "4JKe6zxey_Tq",
        "outputId": "c6589d84-df7f-4bee-f973-b707af95a244"
      },
      "source": [
        "## Check the cross validation scores\r\n",
        "from sklearn.model_selection import cross_val_score\r\n",
        "scores = cross_val_score(log_model, X_train, y_train, cv=10, scoring=\"accuracy\")\r\n",
        "scores"
      ],
      "execution_count": 16,
      "outputs": [
        {
          "output_type": "execute_result",
          "data": {
            "text/plain": [
              "array([0.88888889, 0.86111111, 0.89814815, 0.84259259, 0.89814815,\n",
              "       0.92592593, 0.87962963, 0.81481481, 0.89814815, 0.87962963])"
            ]
          },
          "metadata": {
            "tags": []
          },
          "execution_count": 16
        }
      ]
    },
    {
      "cell_type": "markdown",
      "metadata": {
        "id": "qI4w0QEBzUqh"
      },
      "source": [
        "## Hyper mapameters tuning\r\n",
        "### We'll tune the following ones:\r\n",
        "\r\n",
        "## C = Inverse of regularization strength. Smaller values specify stronger regularization.\r\n",
        "## multi_class = We'll choose multinomial because this is a multi-class problem.\r\n",
        "## solver: For multiclass problems, only newton-cg, sag, saga and lbfgs handle multinomial loss.\r\n",
        "## class_weight: Weights associated with classes.\r\n",
        "## penalty: Used to specify the norm used in the penalization. The ‘newton-cg’, ‘sag’ and ‘lbfgs’ solvers support only l2 penalties."
      ]
    },
    {
      "cell_type": "code",
      "metadata": {
        "colab": {
          "base_uri": "https://localhost:8080/"
        },
        "id": "ViLSBC0Sy_u9",
        "outputId": "a9a3a99d-5721-4c1b-b87f-f61cc8913db6"
      },
      "source": [
        "## Randomize grid search\r\n",
        "# C\r\n",
        "C = [float(x) for x in np.linspace(start = 0.1, stop = 1, num = 10)]\r\n",
        "\r\n",
        "# multi_class\r\n",
        "multi_class = ['multinomial']\r\n",
        "\r\n",
        "# solver\r\n",
        "solver = ['newton-cg', 'sag', 'saga', 'lbfgs']\r\n",
        " \r\n",
        "# class_weight\r\n",
        "class_weight = ['balanced', None]\r\n",
        "\r\n",
        "# penalty\r\n",
        "penalty = ['l2']\r\n",
        "\r\n",
        "# Create the random grid\r\n",
        "parameters = {'C': C,\r\n",
        "               'multi_class': multi_class,\r\n",
        "               'solver': solver,\r\n",
        "               'class_weight': class_weight,\r\n",
        "               'penalty': penalty}\r\n",
        "\r\n",
        "print(parameters)"
      ],
      "execution_count": 21,
      "outputs": [
        {
          "output_type": "stream",
          "text": [
            "{'C': [0.1, 0.2, 0.30000000000000004, 0.4, 0.5, 0.6, 0.7000000000000001, 0.8, 0.9, 1.0], 'multi_class': ['multinomial'], 'solver': ['newton-cg', 'sag', 'saga', 'lbfgs'], 'class_weight': ['balanced', None], 'penalty': ['l2']}\n"
          ],
          "name": "stdout"
        }
      ]
    },
    {
      "cell_type": "code",
      "metadata": {
        "colab": {
          "base_uri": "https://localhost:8080/"
        },
        "id": "MQ-AAwFmy_5G",
        "outputId": "1710343e-ea38-4700-ee63-ab2e0fc72097"
      },
      "source": [
        "# Random search\r\n",
        "from sklearn.model_selection import RandomizedSearchCV\r\n",
        "from sklearn.model_selection import GridSearchCV\r\n",
        "\r\n",
        "random_search = RandomizedSearchCV(estimator=log_model,\r\n",
        "                                   param_distributions=parameters,\r\n",
        "                                   n_iter=50,\r\n",
        "                                   scoring='accuracy',\r\n",
        "                                   cv=3, \r\n",
        "                                   verbose=1, \r\n",
        "                                   random_state=8)\r\n",
        "\r\n",
        "# Fit the random search model\r\n",
        "random_search.fit(X_train, y_train)"
      ],
      "execution_count": 22,
      "outputs": [
        {
          "output_type": "stream",
          "text": [
            "Fitting 3 folds for each of 50 candidates, totalling 150 fits\n"
          ],
          "name": "stdout"
        },
        {
          "output_type": "stream",
          "text": [
            "[Parallel(n_jobs=1)]: Using backend SequentialBackend with 1 concurrent workers.\n",
            "[Parallel(n_jobs=1)]: Done 150 out of 150 | elapsed:   24.6s finished\n"
          ],
          "name": "stderr"
        },
        {
          "output_type": "execute_result",
          "data": {
            "text/plain": [
              "RandomizedSearchCV(cv=3, error_score=nan,\n",
              "                   estimator=LogisticRegression(C=1.0, class_weight=None,\n",
              "                                                dual=False, fit_intercept=True,\n",
              "                                                intercept_scaling=1,\n",
              "                                                l1_ratio=None, max_iter=100,\n",
              "                                                multi_class='auto', n_jobs=None,\n",
              "                                                penalty='l2', random_state=42,\n",
              "                                                solver='lbfgs', tol=0.0001,\n",
              "                                                verbose=0, warm_start=False),\n",
              "                   iid='deprecated', n_iter=50, n_jobs=None,\n",
              "                   param_distributions={'C': [0.1, 0.2, 0.30000000000000004,\n",
              "                                              0.4, 0.5, 0.6, 0.7000000000000001,\n",
              "                                              0.8, 0.9, 1.0],\n",
              "                                        'class_weight': ['balanced', None],\n",
              "                                        'multi_class': ['multinomial'],\n",
              "                                        'penalty': ['l2'],\n",
              "                                        'solver': ['newton-cg', 'sag', 'saga',\n",
              "                                                   'lbfgs']},\n",
              "                   pre_dispatch='2*n_jobs', random_state=8, refit=True,\n",
              "                   return_train_score=False, scoring='accuracy', verbose=1)"
            ]
          },
          "metadata": {
            "tags": []
          },
          "execution_count": 22
        }
      ]
    },
    {
      "cell_type": "code",
      "metadata": {
        "colab": {
          "base_uri": "https://localhost:8080/"
        },
        "id": "0TOiODeXzABp",
        "outputId": "6a0db439-10d9-4481-e1a6-22d2bffb6be1"
      },
      "source": [
        "print(\"The best hyperparameters from Random Search are:\")\r\n",
        "print(random_search.best_params_)\r\n",
        "print(\"\")\r\n",
        "print(\"The mean accuracy of a model with these hyperparameters is:\")\r\n",
        "print(random_search.best_score_)"
      ],
      "execution_count": 23,
      "outputs": [
        {
          "output_type": "stream",
          "text": [
            "The best hyperparameters from Random Search are:\n",
            "{'solver': 'newton-cg', 'penalty': 'l2', 'multi_class': 'multinomial', 'class_weight': 'balanced', 'C': 0.9}\n",
            "\n",
            "The mean accuracy of a model with these hyperparameters is:\n",
            "0.8777777777777778\n"
          ],
          "name": "stdout"
        }
      ]
    },
    {
      "cell_type": "code",
      "metadata": {
        "colab": {
          "base_uri": "https://localhost:8080/"
        },
        "id": "QSQ19aCDelbs",
        "outputId": "67c14006-9a16-4834-f464-5e28dd72f001"
      },
      "source": [
        "## Grid search Cross Validation\r\n",
        "from sklearn.model_selection import ShuffleSplit\r\n",
        "\r\n",
        "C = [float(x) for x in np.linspace(start = 0.1, stop = 1, num = 10)]\r\n",
        "multi_class = ['multinomial']\r\n",
        "solver = ['newton-cg']\r\n",
        "class_weight = ['balanced']\r\n",
        "penalty = ['l2']\r\n",
        "\r\n",
        "param_grid = {'C': C,\r\n",
        "               'multi_class': multi_class,\r\n",
        "               'solver': solver,\r\n",
        "               'class_weight': class_weight,\r\n",
        "               'penalty': penalty}\r\n",
        "\r\n",
        "# Manually create the splits in CV in order to be able to fix a random_state (GridSearchCV doesn't have that argument)\r\n",
        "cv_sets = ShuffleSplit(n_splits = 3, test_size = .33, random_state = 8)\r\n",
        "\r\n",
        "# Instantiate the grid search model\r\n",
        "grid_search = GridSearchCV(estimator=log_model, \r\n",
        "                           param_grid=param_grid,\r\n",
        "                           scoring='accuracy',\r\n",
        "                           cv=cv_sets,\r\n",
        "                           verbose=1)\r\n",
        "\r\n",
        "# Fit the grid search to the data\r\n",
        "grid_search.fit(X_train, y_train)"
      ],
      "execution_count": 25,
      "outputs": [
        {
          "output_type": "stream",
          "text": [
            "Fitting 3 folds for each of 10 candidates, totalling 30 fits\n"
          ],
          "name": "stdout"
        },
        {
          "output_type": "stream",
          "text": [
            "[Parallel(n_jobs=1)]: Using backend SequentialBackend with 1 concurrent workers.\n",
            "[Parallel(n_jobs=1)]: Done  30 out of  30 | elapsed:    3.1s finished\n"
          ],
          "name": "stderr"
        },
        {
          "output_type": "execute_result",
          "data": {
            "text/plain": [
              "GridSearchCV(cv=ShuffleSplit(n_splits=3, random_state=8, test_size=0.33, train_size=None),\n",
              "             error_score=nan,\n",
              "             estimator=LogisticRegression(C=1.0, class_weight=None, dual=False,\n",
              "                                          fit_intercept=True,\n",
              "                                          intercept_scaling=1, l1_ratio=None,\n",
              "                                          max_iter=100, multi_class='auto',\n",
              "                                          n_jobs=None, penalty='l2',\n",
              "                                          random_state=42, solver='lbfgs',\n",
              "                                          tol=0.0001, verbose=0,\n",
              "                                          warm_start=False),\n",
              "             iid='deprecated', n_jobs=None,\n",
              "             param_grid={'C': [0.1, 0.2, 0.30000000000000004, 0.4, 0.5, 0.6,\n",
              "                               0.7000000000000001, 0.8, 0.9, 1.0],\n",
              "                         'class_weight': ['balanced'],\n",
              "                         'multi_class': ['multinomial'], 'penalty': ['l2'],\n",
              "                         'solver': ['newton-cg']},\n",
              "             pre_dispatch='2*n_jobs', refit=True, return_train_score=False,\n",
              "             scoring='accuracy', verbose=1)"
            ]
          },
          "metadata": {
            "tags": []
          },
          "execution_count": 25
        }
      ]
    },
    {
      "cell_type": "code",
      "metadata": {
        "colab": {
          "base_uri": "https://localhost:8080/"
        },
        "id": "5Yufekk1el2B",
        "outputId": "019c0293-2b75-489c-e2f4-5b21f05b57e2"
      },
      "source": [
        "print(\"The best hyperparameters from Grid Search are:\")\r\n",
        "print(grid_search.best_params_)\r\n",
        "print(\"\")\r\n",
        "print(\"The mean accuracy of a model with these hyperparameters is:\")\r\n",
        "print(grid_search.best_score_)"
      ],
      "execution_count": 26,
      "outputs": [
        {
          "output_type": "stream",
          "text": [
            "The best hyperparameters from Grid Search are:\n",
            "{'C': 0.9, 'class_weight': 'balanced', 'multi_class': 'multinomial', 'penalty': 'l2', 'solver': 'newton-cg'}\n",
            "\n",
            "The mean accuracy of a model with these hyperparameters is:\n",
            "0.8842203548085901\n"
          ],
          "name": "stdout"
        }
      ]
    },
    {
      "cell_type": "code",
      "metadata": {
        "colab": {
          "base_uri": "https://localhost:8080/"
        },
        "id": "QY3ybwSezAMf",
        "outputId": "46ce1ff7-0e04-436d-ddf0-3e60a9c2746b"
      },
      "source": [
        "## Save the model\r\n",
        "best_mlr = grid_search.best_estimator_\r\n",
        "best_mlr"
      ],
      "execution_count": 27,
      "outputs": [
        {
          "output_type": "execute_result",
          "data": {
            "text/plain": [
              "LogisticRegression(C=0.9, class_weight='balanced', dual=False,\n",
              "                   fit_intercept=True, intercept_scaling=1, l1_ratio=None,\n",
              "                   max_iter=100, multi_class='multinomial', n_jobs=None,\n",
              "                   penalty='l2', random_state=42, solver='newton-cg',\n",
              "                   tol=0.0001, verbose=0, warm_start=False)"
            ]
          },
          "metadata": {
            "tags": []
          },
          "execution_count": 27
        }
      ]
    },
    {
      "cell_type": "code",
      "metadata": {
        "colab": {
          "base_uri": "https://localhost:8080/"
        },
        "id": "BQ7CVIdr-R0O",
        "outputId": "c604b6cd-a462-471a-b914-f53ff3ca756c"
      },
      "source": [
        "## Fit the model\r\n",
        "best_mlr.fit(X_train, y_train)"
      ],
      "execution_count": 28,
      "outputs": [
        {
          "output_type": "execute_result",
          "data": {
            "text/plain": [
              "LogisticRegression(C=0.9, class_weight='balanced', dual=False,\n",
              "                   fit_intercept=True, intercept_scaling=1, l1_ratio=None,\n",
              "                   max_iter=100, multi_class='multinomial', n_jobs=None,\n",
              "                   penalty='l2', random_state=42, solver='newton-cg',\n",
              "                   tol=0.0001, verbose=0, warm_start=False)"
            ]
          },
          "metadata": {
            "tags": []
          },
          "execution_count": 28
        }
      ]
    },
    {
      "cell_type": "code",
      "metadata": {
        "colab": {
          "base_uri": "https://localhost:8080/"
        },
        "id": "zaRc28LI-SKU",
        "outputId": "71a99d65-f61d-4dec-94ce-6289c0273bea"
      },
      "source": [
        "## pedictions\r\n",
        "y_pred = best_mlr.predict(X_train)\r\n",
        "\r\n",
        "## Train set accuracy\r\n",
        "print(\"Accuracy:\",accuracy_score(y_train, y_pred))"
      ],
      "execution_count": 29,
      "outputs": [
        {
          "output_type": "stream",
          "text": [
            "Accuracy: 0.937962962962963\n"
          ],
          "name": "stdout"
        }
      ]
    },
    {
      "cell_type": "code",
      "metadata": {
        "colab": {
          "base_uri": "https://localhost:8080/"
        },
        "id": "CgPjZMjK-Sja",
        "outputId": "b0f1de59-bc7a-410f-88a4-10ce4d0c68f4"
      },
      "source": [
        "## test set predictions\r\n",
        "test_pred = best_mlr.predict(X_test)\r\n",
        "\r\n",
        "## test set accuracy\r\n",
        "print(\"Test set Accuracy:\",accuracy_score(y_test, test_pred))"
      ],
      "execution_count": 31,
      "outputs": [
        {
          "output_type": "stream",
          "text": [
            "Test set Accuracy: 0.8760330578512396\n"
          ],
          "name": "stdout"
        }
      ]
    },
    {
      "cell_type": "code",
      "metadata": {
        "colab": {
          "base_uri": "https://localhost:8080/"
        },
        "id": "s4ACYe5s-S1V",
        "outputId": "3525e77a-b44f-4c7d-fcc4-c81542b88302"
      },
      "source": [
        "# Classification report\r\n",
        "print(\"Classification report\")\r\n",
        "print(classification_report(y_test,test_pred))"
      ],
      "execution_count": 32,
      "outputs": [
        {
          "output_type": "stream",
          "text": [
            "Classification report\n",
            "              precision    recall  f1-score   support\n",
            "\n",
            "           0       0.82      0.88      0.85        16\n",
            "           1       0.75      0.90      0.82        10\n",
            "           2       1.00      0.79      0.88        14\n",
            "           3       0.80      0.86      0.83        14\n",
            "           4       0.73      0.73      0.73        15\n",
            "           5       1.00      0.87      0.93        15\n",
            "           6       0.96      0.96      0.96        23\n",
            "           7       0.93      1.00      0.97        14\n",
            "\n",
            "    accuracy                           0.88       121\n",
            "   macro avg       0.87      0.87      0.87       121\n",
            "weighted avg       0.88      0.88      0.88       121\n",
            "\n"
          ],
          "name": "stdout"
        }
      ]
    },
    {
      "cell_type": "code",
      "metadata": {
        "colab": {
          "base_uri": "https://localhost:8080/",
          "height": 346
        },
        "id": "LVwqWOMc-S9G",
        "outputId": "5fa835ce-3b7a-4d38-a129-134102d95ced"
      },
      "source": [
        "## Confusion matrix\r\n",
        "encode = {'Admin':0, 'Analyst':1, 'cleaner':2, 'Finance':3, 'hospitality':4,\r\n",
        "       'recruitment':5, 'Warehouse':6, 'web developer':7}\r\n",
        "labels = [i for i in encode]\r\n",
        "cf_matrix = confusion_matrix(y_test, test_pred)\r\n",
        "sns.heatmap(cf_matrix, linewidths=1, annot=True, fmt='g', xticklabels=labels, yticklabels=labels)"
      ],
      "execution_count": 34,
      "outputs": [
        {
          "output_type": "execute_result",
          "data": {
            "text/plain": [
              "<matplotlib.axes._subplots.AxesSubplot at 0x7f4b3ad3ec50>"
            ]
          },
          "metadata": {
            "tags": []
          },
          "execution_count": 34
        },
        {
          "output_type": "display_data",
          "data": {
            "image/png": "[encoded data removed]",
            "text/plain": [
              "<Figure size 432x288 with 2 Axes>"
            ]
          },
          "metadata": {
            "tags": [],
            "needs_background": "light"
          }
        }
      ]
    },
    {
      "cell_type": "code",
      "metadata": {
        "colab": {
          "base_uri": "https://localhost:8080/",
          "height": 77
        },
        "id": "q408PwSG-TGO",
        "outputId": "35f7d19a-183a-4430-84d7-0c9a27a67177"
      },
      "source": [
        "## Create a data freme with the model train, test set accuracy\r\n",
        "D = {\r\n",
        "     'Model': 'Multionomial Logistic Regression',\r\n",
        "     'Train Set Accuracy': accuracy_score(y_train, best_mlr.predict(X_train)),\r\n",
        "     'Test Set Accuracy': accuracy_score(y_test, test_pred)\r\n",
        "}\r\n",
        "\r\n",
        "mlr_df = pd.DataFrame(D, index=[0])\r\n",
        "mlr_df"
      ],
      "execution_count": 35,
      "outputs": [
        {
          "output_type": "execute_result",
          "data": {
            "text/html": [
              "<div>\n",
              "<style scoped>\n",
              "    .dataframe tbody tr th:only-of-type {\n",
              "        vertical-align: middle;\n",
              "    }\n",
              "\n",
              "    .dataframe tbody tr th {\n",
              "        vertical-align: top;\n",
              "    }\n",
              "\n",
              "    .dataframe thead th {\n",
              "        text-align: right;\n",
              "    }\n",
              "</style>\n",
              "<table border=\"1\" class=\"dataframe\">\n",
              "  <thead>\n",
              "    <tr style=\"text-align: right;\">\n",
              "      <th></th>\n",
              "      <th>Model</th>\n",
              "      <th>Train Set Accuracy</th>\n",
              "      <th>Test Set Accuracy</th>\n",
              "    </tr>\n",
              "  </thead>\n",
              "  <tbody>\n",
              "    <tr>\n",
              "      <th>0</th>\n",
              "      <td>Multionomial Logistic Regression</td>\n",
              "      <td>0.937963</td>\n",
              "      <td>0.876033</td>\n",
              "    </tr>\n",
              "  </tbody>\n",
              "</table>\n",
              "</div>"
            ],
            "text/plain": [
              "                              Model  Train Set Accuracy  Test Set Accuracy\n",
              "0  Multionomial Logistic Regression            0.937963           0.876033"
            ]
          },
          "metadata": {
            "tags": []
          },
          "execution_count": 35
        }
      ]
    },
    {
      "cell_type": "code",
      "metadata": {
        "id": "ryTrbRn6-TPh"
      },
      "source": [
        "## Save the model\r\n",
        "with open('/content/model_data/best_mlr.pickle', 'wb') as output:\r\n",
        "    pickle.dump(best_mlr, output)\r\n",
        "\r\n",
        "## Save the data frame\r\n",
        "with open('/content/model_data/mlr_df.pickle', 'wb') as output:\r\n",
        "  pickle.dump(mlr_df, output)"
      ],
      "execution_count": 37,
      "outputs": []
    }
  ]
}