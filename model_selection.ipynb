{
 "cells": [
  {
   "cell_type": "markdown",
   "metadata": {},
   "source": [
    "### Model selection"
   ]
  },
  {
   "cell_type": "code",
   "execution_count": 24,
   "metadata": {},
   "outputs": [],
   "source": [
    "import pandas as pd\n",
    "import pickle"
   ]
  },
  {
   "cell_type": "code",
   "execution_count": 39,
   "metadata": {},
   "outputs": [],
   "source": [
    "## read the saved data frames\n",
    "path = 'C:/Users/nikos/Desktop/Classify reviews/trained_models/'\n",
    "\n",
    "files = [\"knn_df.pickle\", \"mlr_df.pickle\", \"rm_df.pickle\", \"svm_df.pickle\"]\n",
    "\n",
    "df = pd.DataFrame()\n",
    "for i in files:\n",
    "    new_path = path + i\n",
    "    \n",
    "    with open(new_path, 'rb') as dt:\n",
    "        new_df = pickle.load(dt)\n",
    "        \n",
    "    df = df.append(new_df)\n",
    "df = df.reset_index().drop('index', axis=1)  "
   ]
  },
  {
   "cell_type": "code",
   "execution_count": 40,
   "metadata": {},
   "outputs": [
    {
     "data": {
      "text/html": [
       "<div>\n",
       "<style scoped>\n",
       "    .dataframe tbody tr th:only-of-type {\n",
       "        vertical-align: middle;\n",
       "    }\n",
       "\n",
       "    .dataframe tbody tr th {\n",
       "        vertical-align: top;\n",
       "    }\n",
       "\n",
       "    .dataframe thead th {\n",
       "        text-align: right;\n",
       "    }\n",
       "</style>\n",
       "<table border=\"1\" class=\"dataframe\">\n",
       "  <thead>\n",
       "    <tr style=\"text-align: right;\">\n",
       "      <th></th>\n",
       "      <th>Model</th>\n",
       "      <th>Train Set Accuracy</th>\n",
       "      <th>Test Set Accuracy</th>\n",
       "    </tr>\n",
       "  </thead>\n",
       "  <tbody>\n",
       "    <tr>\n",
       "      <th>0</th>\n",
       "      <td>KNN</td>\n",
       "      <td>0.845370</td>\n",
       "      <td>0.834711</td>\n",
       "    </tr>\n",
       "    <tr>\n",
       "      <th>1</th>\n",
       "      <td>Multionomial Logistic Regression</td>\n",
       "      <td>0.937963</td>\n",
       "      <td>0.876033</td>\n",
       "    </tr>\n",
       "    <tr>\n",
       "      <th>2</th>\n",
       "      <td>Random Forest</td>\n",
       "      <td>0.876852</td>\n",
       "      <td>0.834711</td>\n",
       "    </tr>\n",
       "    <tr>\n",
       "      <th>3</th>\n",
       "      <td>SVM</td>\n",
       "      <td>0.875926</td>\n",
       "      <td>0.826446</td>\n",
       "    </tr>\n",
       "  </tbody>\n",
       "</table>\n",
       "</div>"
      ],
      "text/plain": [
       "                              Model  Train Set Accuracy  Test Set Accuracy\n",
       "0                               KNN            0.845370           0.834711\n",
       "1  Multionomial Logistic Regression            0.937963           0.876033\n",
       "2                     Random Forest            0.876852           0.834711\n",
       "3                               SVM            0.875926           0.826446"
      ]
     },
     "execution_count": 40,
     "metadata": {},
     "output_type": "execute_result"
    }
   ],
   "source": [
    "## Print the Models table\n",
    "df"
   ]
  },
  {
   "cell_type": "markdown",
   "metadata": {},
   "source": [
    "#### The model that seems to generate the same results on the training and test set is the KNN model. So I will use the KNN"
   ]
  },
  {
   "cell_type": "code",
   "execution_count": 43,
   "metadata": {},
   "outputs": [
    {
     "name": "stderr",
     "output_type": "stream",
     "text": [
      "C:\\Users\\nikos\\miniconda3\\envs\\tensorflow\\lib\\site-packages\\sklearn\\base.py:334: UserWarning: Trying to unpickle estimator KNeighborsClassifier from version 0.22.2.post1 when using version 0.23.2. This might lead to breaking code or invalid results. Use at your own risk.\n",
      "  UserWarning)\n"
     ]
    }
   ],
   "source": [
    "## Load the model and the data frame in order to examine some misclassified observations\n",
    "# KNN Model\n",
    "path_model = r\"C:\\Users\\nikos\\Desktop\\Classify reviews\\trained_models\\best_knn.pickle\"\n",
    "with open(path_model, 'rb') as dt:\n",
    "    knn_model = pickle.load(dt)"
   ]
  },
  {
   "cell_type": "code",
   "execution_count": 55,
   "metadata": {},
   "outputs": [],
   "source": [
    "## Load the data\n",
    "path_X_train = r\"C:\\Users\\nikos\\Desktop\\Classify reviews\\Pickles\\X_train.pickle\"\n",
    "with open(path_X_train, 'rb') as data:\n",
    "    X_train = pickle.load(data)\n",
    "\n",
    "path_X_test = r\"C:\\Users\\nikos\\Desktop\\Classify reviews\\Pickles\\X_test.pickle\"\n",
    "with open(path_X_test, 'rb') as data:\n",
    "    X_test = pickle.load(data)\n",
    "\n",
    "path_y_train = r\"C:\\Users\\nikos\\Desktop\\Classify reviews\\Pickles\\y_train.pickle\"\n",
    "with open(path_y_train, 'rb') as data:\n",
    "    y_train = pickle.load(data)\n",
    "\n",
    "path_y_test = r\"C:\\Users\\nikos\\Desktop\\Classify reviews\\Pickles\\y_test.pickle\"\n",
    "with open(path_y_test, 'rb') as data:\n",
    "    y_test = pickle.load(data)\n",
    "    \n",
    "path_df = r\"C:\\Users\\nikos\\Desktop\\Classify reviews\\Pickles\\df.pickle\"\n",
    "with open(path_df, 'rb') as data:\n",
    "    df = pickle.load(data)"
   ]
  },
  {
   "cell_type": "code",
   "execution_count": null,
   "metadata": {},
   "outputs": [],
   "source": []
  }
 ],
 "metadata": {
  "kernelspec": {
   "display_name": "Python 3.7 (tensorflow)",
   "language": "python",
   "name": "tensorflow"
  },
  "language_info": {
   "codemirror_mode": {
    "name": "ipython",
    "version": 3
   },
   "file_extension": ".py",
   "mimetype": "text/x-python",
   "name": "python",
   "nbconvert_exporter": "python",
   "pygments_lexer": "ipython3",
   "version": "3.7.9"
  }
 },
 "nbformat": 4,
 "nbformat_minor": 4
}
