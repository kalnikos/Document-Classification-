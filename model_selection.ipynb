{
 "cells": [
  {
   "cell_type": "markdown",
   "metadata": {},
   "source": [
    "### Model selection"
   ]
  },
  {
   "cell_type": "code",
   "execution_count": 232,
   "metadata": {},
   "outputs": [],
   "source": [
    "import pandas as pd\n",
    "import pickle"
   ]
  },
  {
   "cell_type": "code",
   "execution_count": 233,
   "metadata": {},
   "outputs": [],
   "source": [
    "## read the saved data frames\n",
    "path = \"C:/Users/nikos/Desktop/models_df/\"\n",
    "\n",
    "files = [\"knn_df.pickle\", \"mlr_df.pickle\", \"rf_df.pickle\", \"svm_df.pickle\"]\n",
    "\n",
    "df = pd.DataFrame()\n",
    "for i in files:\n",
    "    new_path = path + i\n",
    "    \n",
    "    with open(new_path, 'rb') as dt:\n",
    "        new_df = pickle.load(dt)\n",
    "        \n",
    "    df = df.append(new_df)\n",
    "df = df.reset_index().drop('index', axis=1)  "
   ]
  },
  {
   "cell_type": "code",
   "execution_count": 234,
   "metadata": {},
   "outputs": [
    {
     "data": {
      "text/html": [
       "<div>\n",
       "<style scoped>\n",
       "    .dataframe tbody tr th:only-of-type {\n",
       "        vertical-align: middle;\n",
       "    }\n",
       "\n",
       "    .dataframe tbody tr th {\n",
       "        vertical-align: top;\n",
       "    }\n",
       "\n",
       "    .dataframe thead th {\n",
       "        text-align: right;\n",
       "    }\n",
       "</style>\n",
       "<table border=\"1\" class=\"dataframe\">\n",
       "  <thead>\n",
       "    <tr style=\"text-align: right;\">\n",
       "      <th></th>\n",
       "      <th>Model</th>\n",
       "      <th>Train Set Accuracy</th>\n",
       "      <th>Test Set Accuracy</th>\n",
       "    </tr>\n",
       "  </thead>\n",
       "  <tbody>\n",
       "    <tr>\n",
       "      <th>0</th>\n",
       "      <td>KNN</td>\n",
       "      <td>0.855208</td>\n",
       "      <td>0.804979</td>\n",
       "    </tr>\n",
       "    <tr>\n",
       "      <th>1</th>\n",
       "      <td>Multionomial Logistic Regression</td>\n",
       "      <td>0.910417</td>\n",
       "      <td>0.850622</td>\n",
       "    </tr>\n",
       "    <tr>\n",
       "      <th>2</th>\n",
       "      <td>Random Forest</td>\n",
       "      <td>0.887500</td>\n",
       "      <td>0.775934</td>\n",
       "    </tr>\n",
       "    <tr>\n",
       "      <th>3</th>\n",
       "      <td>SVM</td>\n",
       "      <td>0.884375</td>\n",
       "      <td>0.846473</td>\n",
       "    </tr>\n",
       "  </tbody>\n",
       "</table>\n",
       "</div>"
      ],
      "text/plain": [
       "                              Model  Train Set Accuracy  Test Set Accuracy\n",
       "0                               KNN            0.855208           0.804979\n",
       "1  Multionomial Logistic Regression            0.910417           0.850622\n",
       "2                     Random Forest            0.887500           0.775934\n",
       "3                               SVM            0.884375           0.846473"
      ]
     },
     "execution_count": 234,
     "metadata": {},
     "output_type": "execute_result"
    }
   ],
   "source": [
    "## Print the Models table\n",
    "df"
   ]
  },
  {
   "cell_type": "markdown",
   "metadata": {},
   "source": [
    "#### The model that seems to generate better results on the training and test set is the SVM model. So I will use the SVM algorithm"
   ]
  },
  {
   "cell_type": "code",
   "execution_count": 235,
   "metadata": {},
   "outputs": [],
   "source": [
    "## Load the model and the data frame in order to examine some misclassified observations\n",
    "# SVM models\n",
    "path_model = r\"C:\\Users\\nikos\\Desktop\\models_df\\best_svm.pickle\"\n",
    "with open(path_model, 'rb') as dt:\n",
    "    svm_model = pickle.load(dt)"
   ]
  },
  {
   "cell_type": "code",
   "execution_count": 236,
   "metadata": {},
   "outputs": [],
   "source": [
    "## Load the data\n",
    "path_X_train = r\"C:\\Users\\nikos\\Desktop\\Classify reviews\\model_data\\X_train.pickle\"\n",
    "with open(path_X_train, 'rb') as data:\n",
    "    red_X_train = pickle.load(data)\n",
    "\n",
    "path_X_test = r\"C:\\Users\\nikos\\Desktop\\Classify reviews\\model_data\\X_test.pickle\"\n",
    "with open(path_X_test, 'rb') as data:\n",
    "    red_X_test = pickle.load(data)\n",
    "\n",
    "path_y_train = r\"C:\\Users\\nikos\\Desktop\\Classify reviews\\model_data\\y_train.pickle\"\n",
    "with open(path_y_train, 'rb') as data:\n",
    "    red_y_train = pickle.load(data)\n",
    "\n",
    "path_y_test = r\"C:\\Users\\nikos\\Desktop\\Classify reviews\\model_data\\y_test.pickle\"\n",
    "with open(path_y_test, 'rb') as data:\n",
    "    red_y_test = pickle.load(data)\n",
    "    \n",
    "path_df = r\"C:\\Users\\nikos\\Desktop\\Classify reviews\\model_data\\df.pickle\"\n",
    "with open(path_df, 'rb') as data:\n",
    "    df = pickle.load(data)"
   ]
  },
  {
   "cell_type": "code",
   "execution_count": 238,
   "metadata": {},
   "outputs": [
    {
     "data": {
      "text/plain": [
       "array([3, 3, 5, 7, 4, 5, 1, 4, 7, 5, 3, 0, 5, 6, 0, 0, 0, 4, 0, 7, 7, 4,\n",
       "       4, 5, 4, 4, 6, 7, 3, 7, 3, 7, 5, 7, 3, 1, 1, 1, 0, 0, 5, 6, 0, 7,\n",
       "       4, 2, 6, 6, 6, 1, 0, 3, 2, 7, 0, 4, 2, 3, 3, 4, 6, 6, 2, 4, 5, 7,\n",
       "       3, 0, 0, 6, 2, 3, 7, 2, 4, 2, 7, 7, 7, 1, 3, 3, 0, 4, 6, 6, 3, 4,\n",
       "       4, 0, 0, 3, 0, 3, 3, 5, 2, 1, 6, 5, 3, 2, 7, 1, 3, 1, 7, 2, 2, 3,\n",
       "       0, 0, 7, 6, 3, 3, 1, 4, 2, 0, 6, 7, 4, 1, 3, 1, 3, 4, 3, 1, 2, 0,\n",
       "       4, 1, 0, 3, 5, 3, 7, 6, 1, 3, 7, 5, 4, 7, 5, 7, 1, 2, 4, 0, 4, 5,\n",
       "       0, 3, 6, 0, 1, 3, 6, 3, 3, 2, 6, 6, 4, 3, 4, 6, 3, 1, 1, 2, 7, 1,\n",
       "       3, 4, 5, 5, 3, 6, 2, 3, 3, 1, 3, 6, 3, 1, 2, 3, 0, 6, 1, 2, 6, 3,\n",
       "       3, 1, 5, 0, 2, 5, 1, 4, 6, 4, 3, 7, 7, 6, 7, 4, 6, 3, 1, 1, 7, 3,\n",
       "       7, 4, 4, 7, 7, 1, 3, 4, 1, 4, 4, 1, 7, 1, 7, 1, 5, 6, 1, 5, 1],\n",
       "      dtype=int64)"
      ]
     },
     "execution_count": 238,
     "metadata": {},
     "output_type": "execute_result"
    }
   ],
   "source": [
    "predictions = svm_model.predict(red_X_test)\n",
    "predictions"
   ]
  },
  {
   "cell_type": "code",
   "execution_count": 261,
   "metadata": {},
   "outputs": [],
   "source": [
    "# df_X_test  \n",
    "path_X_test = r\"C:\\Users\\nikos\\Desktop\\Classify reviews\\Pickles\\df_X_test.pickle\"\n",
    "with open(path_X_test, 'rb') as data:\n",
    "    path_X_test = pickle.load(data)"
   ]
  },
  {
   "cell_type": "code",
   "execution_count": 299,
   "metadata": {},
   "outputs": [
    {
     "data": {
      "text/html": [
       "<div>\n",
       "<style scoped>\n",
       "    .dataframe tbody tr th:only-of-type {\n",
       "        vertical-align: middle;\n",
       "    }\n",
       "\n",
       "    .dataframe tbody tr th {\n",
       "        vertical-align: top;\n",
       "    }\n",
       "\n",
       "    .dataframe thead th {\n",
       "        text-align: right;\n",
       "    }\n",
       "</style>\n",
       "<table border=\"1\" class=\"dataframe\">\n",
       "  <thead>\n",
       "    <tr style=\"text-align: right;\">\n",
       "      <th></th>\n",
       "      <th>Desc proc</th>\n",
       "      <th>Target</th>\n",
       "      <th>predictions</th>\n",
       "    </tr>\n",
       "  </thead>\n",
       "  <tbody>\n",
       "    <tr>\n",
       "      <th>243</th>\n",
       "      <td>drug analyst report directly therapeutic area ...</td>\n",
       "      <td>5</td>\n",
       "      <td>3</td>\n",
       "    </tr>\n",
       "    <tr>\n",
       "      <th>1024</th>\n",
       "      <td>full timetemporarywe look hard work reliable p...</td>\n",
       "      <td>3</td>\n",
       "      <td>3</td>\n",
       "    </tr>\n",
       "    <tr>\n",
       "      <th>233</th>\n",
       "      <td>facebook mission give people power build commu...</td>\n",
       "      <td>5</td>\n",
       "      <td>5</td>\n",
       "    </tr>\n",
       "    <tr>\n",
       "      <th>70</th>\n",
       "      <td>king college hospital nh foundation trust one ...</td>\n",
       "      <td>4</td>\n",
       "      <td>7</td>\n",
       "    </tr>\n",
       "    <tr>\n",
       "      <th>363</th>\n",
       "      <td>job introductionshaw healthcare currently recr...</td>\n",
       "      <td>0</td>\n",
       "      <td>4</td>\n",
       "    </tr>\n",
       "    <tr>\n",
       "      <th>...</th>\n",
       "      <td>...</td>\n",
       "      <td>...</td>\n",
       "      <td>...</td>\n",
       "    </tr>\n",
       "    <tr>\n",
       "      <th>83</th>\n",
       "      <td>post office assistantpost office clerk provide...</td>\n",
       "      <td>5</td>\n",
       "      <td>5</td>\n",
       "    </tr>\n",
       "    <tr>\n",
       "      <th>240</th>\n",
       "      <td>new data analyst join vashi grow inhouse analy...</td>\n",
       "      <td>6</td>\n",
       "      <td>6</td>\n",
       "    </tr>\n",
       "    <tr>\n",
       "      <th>622</th>\n",
       "      <td>bleecker start food truck today shop around lo...</td>\n",
       "      <td>1</td>\n",
       "      <td>1</td>\n",
       "    </tr>\n",
       "    <tr>\n",
       "      <th>319</th>\n",
       "      <td>job descriptionwe role experienced kitchen por...</td>\n",
       "      <td>5</td>\n",
       "      <td>5</td>\n",
       "    </tr>\n",
       "    <tr>\n",
       "      <th>129</th>\n",
       "      <td>company descriptiontempdent recruitment traini...</td>\n",
       "      <td>1</td>\n",
       "      <td>1</td>\n",
       "    </tr>\n",
       "  </tbody>\n",
       "</table>\n",
       "<p>241 rows × 3 columns</p>\n",
       "</div>"
      ],
      "text/plain": [
       "                                              Desc proc  Target  predictions\n",
       "243   drug analyst report directly therapeutic area ...       5            3\n",
       "1024  full timetemporarywe look hard work reliable p...       3            3\n",
       "233   facebook mission give people power build commu...       5            5\n",
       "70    king college hospital nh foundation trust one ...       4            7\n",
       "363   job introductionshaw healthcare currently recr...       0            4\n",
       "...                                                 ...     ...          ...\n",
       "83    post office assistantpost office clerk provide...       5            5\n",
       "240   new data analyst join vashi grow inhouse analy...       6            6\n",
       "622   bleecker start food truck today shop around lo...       1            1\n",
       "319   job descriptionwe role experienced kitchen por...       5            5\n",
       "129   company descriptiontempdent recruitment traini...       1            1\n",
       "\n",
       "[241 rows x 3 columns]"
      ]
     },
     "execution_count": 299,
     "metadata": {},
     "output_type": "execute_result"
    }
   ],
   "source": [
    "df1 = path_X_test\n",
    "df2 = red_y_test\n",
    "df3 = pd.DataFrame(predictions)\n",
    "result = pd.concat([df1, df2], axis=1)\n",
    "result[\"predictions\"] = predictions\n",
    "result"
   ]
  },
  {
   "cell_type": "code",
   "execution_count": 301,
   "metadata": {},
   "outputs": [
    {
     "data": {
      "text/html": [
       "<div>\n",
       "<style scoped>\n",
       "    .dataframe tbody tr th:only-of-type {\n",
       "        vertical-align: middle;\n",
       "    }\n",
       "\n",
       "    .dataframe tbody tr th {\n",
       "        vertical-align: top;\n",
       "    }\n",
       "\n",
       "    .dataframe thead th {\n",
       "        text-align: right;\n",
       "    }\n",
       "</style>\n",
       "<table border=\"1\" class=\"dataframe\">\n",
       "  <thead>\n",
       "    <tr style=\"text-align: right;\">\n",
       "      <th></th>\n",
       "      <th>Desc proc</th>\n",
       "      <th>Target</th>\n",
       "      <th>predictions</th>\n",
       "    </tr>\n",
       "  </thead>\n",
       "  <tbody>\n",
       "    <tr>\n",
       "      <th>243</th>\n",
       "      <td>drug analyst report directly therapeutic area ...</td>\n",
       "      <td>recruitment</td>\n",
       "      <td>Finance</td>\n",
       "    </tr>\n",
       "    <tr>\n",
       "      <th>1024</th>\n",
       "      <td>full timetemporarywe look hard work reliable p...</td>\n",
       "      <td>Finance</td>\n",
       "      <td>Finance</td>\n",
       "    </tr>\n",
       "    <tr>\n",
       "      <th>233</th>\n",
       "      <td>facebook mission give people power build commu...</td>\n",
       "      <td>recruitment</td>\n",
       "      <td>recruitment</td>\n",
       "    </tr>\n",
       "    <tr>\n",
       "      <th>70</th>\n",
       "      <td>king college hospital nh foundation trust one ...</td>\n",
       "      <td>hospitality</td>\n",
       "      <td>web developer</td>\n",
       "    </tr>\n",
       "    <tr>\n",
       "      <th>363</th>\n",
       "      <td>job introductionshaw healthcare currently recr...</td>\n",
       "      <td>Admin</td>\n",
       "      <td>hospitality</td>\n",
       "    </tr>\n",
       "  </tbody>\n",
       "</table>\n",
       "</div>"
      ],
      "text/plain": [
       "                                              Desc proc       Target  \\\n",
       "243   drug analyst report directly therapeutic area ...  recruitment   \n",
       "1024  full timetemporarywe look hard work reliable p...      Finance   \n",
       "233   facebook mission give people power build commu...  recruitment   \n",
       "70    king college hospital nh foundation trust one ...  hospitality   \n",
       "363   job introductionshaw healthcare currently recr...        Admin   \n",
       "\n",
       "        predictions  \n",
       "243         Finance  \n",
       "1024        Finance  \n",
       "233     recruitment  \n",
       "70    web developer  \n",
       "363     hospitality  "
      ]
     },
     "execution_count": 301,
     "metadata": {},
     "output_type": "execute_result"
    }
   ],
   "source": [
    "encode = {0:'Admin', 1:'Analyst', 2:'cleaner', 3:'Finance', 4:'hospitality',\n",
    "       5:'recruitment', 6:'Warehouse', 7:'web developer'}\n",
    "\n",
    "# Decode\n",
    "result = result.replace({'Target':encode})\n",
    "result = result.replace({'predictions':encode})\n",
    "result.head()"
   ]
  },
  {
   "cell_type": "code",
   "execution_count": 304,
   "metadata": {},
   "outputs": [
    {
     "data": {
      "text/html": [
       "<div>\n",
       "<style scoped>\n",
       "    .dataframe tbody tr th:only-of-type {\n",
       "        vertical-align: middle;\n",
       "    }\n",
       "\n",
       "    .dataframe tbody tr th {\n",
       "        vertical-align: top;\n",
       "    }\n",
       "\n",
       "    .dataframe thead th {\n",
       "        text-align: right;\n",
       "    }\n",
       "</style>\n",
       "<table border=\"1\" class=\"dataframe\">\n",
       "  <thead>\n",
       "    <tr style=\"text-align: right;\">\n",
       "      <th></th>\n",
       "      <th>Desc proc</th>\n",
       "      <th>Target</th>\n",
       "      <th>predictions</th>\n",
       "    </tr>\n",
       "  </thead>\n",
       "  <tbody>\n",
       "    <tr>\n",
       "      <th>243</th>\n",
       "      <td>drug analyst report directly therapeutic area ...</td>\n",
       "      <td>recruitment</td>\n",
       "      <td>Finance</td>\n",
       "    </tr>\n",
       "    <tr>\n",
       "      <th>70</th>\n",
       "      <td>king college hospital nh foundation trust one ...</td>\n",
       "      <td>hospitality</td>\n",
       "      <td>web developer</td>\n",
       "    </tr>\n",
       "    <tr>\n",
       "      <th>363</th>\n",
       "      <td>job introductionshaw healthcare currently recr...</td>\n",
       "      <td>Admin</td>\n",
       "      <td>hospitality</td>\n",
       "    </tr>\n",
       "    <tr>\n",
       "      <th>879</th>\n",
       "      <td>establish consultancy seek recruitment consult...</td>\n",
       "      <td>Admin</td>\n",
       "      <td>hospitality</td>\n",
       "    </tr>\n",
       "    <tr>\n",
       "      <th>1032</th>\n",
       "      <td>fully conversant detail air freight forward wa...</td>\n",
       "      <td>cleaner</td>\n",
       "      <td>Finance</td>\n",
       "    </tr>\n",
       "  </tbody>\n",
       "</table>\n",
       "</div>"
      ],
      "text/plain": [
       "                                              Desc proc       Target  \\\n",
       "243   drug analyst report directly therapeutic area ...  recruitment   \n",
       "70    king college hospital nh foundation trust one ...  hospitality   \n",
       "363   job introductionshaw healthcare currently recr...        Admin   \n",
       "879   establish consultancy seek recruitment consult...        Admin   \n",
       "1032  fully conversant detail air freight forward wa...      cleaner   \n",
       "\n",
       "        predictions  \n",
       "243         Finance  \n",
       "70    web developer  \n",
       "363     hospitality  \n",
       "879     hospitality  \n",
       "1032        Finance  "
      ]
     },
     "execution_count": 304,
     "metadata": {},
     "output_type": "execute_result"
    }
   ],
   "source": [
    "## Inspect some misclassified observations\n",
    "condition = (result['Target'] != result['predictions'])\n",
    "\n",
    "df_misclassified = result[condition]\n",
    "\n",
    "df_misclassified.head()"
   ]
  },
  {
   "cell_type": "code",
   "execution_count": 305,
   "metadata": {},
   "outputs": [
    {
     "data": {
      "text/plain": [
       "'drug analyst report directly therapeutic area director associate director member citeline editorial team drug analyst broadly responsible support daily editorial operation ensure quality integrity pharmaprojects database provide unparalleled research support client support analytics project objective achieve solid understanding varied competitive drug r intelligence source collect key drug development data conduct additional research devise basic database search strategy client perform basic data responsibilitiescontent productionsupport therapeutic area team maintain accurate database citeline productsreview update add drug record base company pipeline medical sec filing information sourcesacquire basic understanding therapeutic area include disease scope coverageacquire basic understanding competence internal content management system master database functionality process relate record creation maintenanceacquire basic knowledge understanding relationship citeline product ensure consistency data setsoversee editorsreview editor work drug record answer query provide feedback help develop skill full competencyreview ass performance productivity accuracy trend editor team individualsclient supportprovide prompt accurate research support clientsconduct research assist database search strategy perform basic data analysisapply knowledge regulatory process pharmaceutical drug development clinical trial provide highest quality data support clientsassist production content internal external client project citeline analytics thought leadership piece create deliverable excel word powerpoint pdf formatsdevelop basic knowledge understanding citeline client management toolteam supportactively participate team callslearn role responsibility team overall organizational structure citelineattend training workshop requestedsupport team absencesperform miscellaneous duty assignedrole requirementsba bsc life science equivalent experiencework experience preferably pharmaceutical company cro market research firm internship experience drug development process associate pharmaceutical marketsimpeccable attention detail accuracystrong internet research skillsability use sound logic edit manipulate analyze different type organizational time management priority setting skill flexibility environmentability think critically work independently follow instructionsability work collaboratively within team office siteworking knowledge microsoft excel word powerpointexcellent write verbal english skillswhy work informa learning development plan assist career day annual leave plus bank holiday day volunteer day birthday fabulous new office blackfriar view across london onsite gym restaurant variety amenity nearbyget work product across lloyd list group serviceslife assuranceother flexible benefit include healthcare cycle work scheme season ticket pension option become shareholderregular social event network opportunitieswe know sometimes candidate exist people put apply job fit requirement excite work u skill experience look please go ahead apply could need believe strongly value diversity create supportive inclusive environment colleague succeed informa proud equal opportunity employer discriminate basis race colour ancestry national origin religion religious creed mental physical disability medical condition genetic information sex include pregnancy childbirth related medical condition sexual orientation gender identity gender expression age marital status citizenship protected characteristic local role may also available flexible working schedule please ask talent acquisition team information'"
      ]
     },
     "execution_count": 305,
     "metadata": {},
     "output_type": "execute_result"
    }
   ],
   "source": [
    "## read some of them \n",
    "df_misclassified[\"Desc proc\"][243]"
   ]
  },
  {
   "cell_type": "code",
   "execution_count": null,
   "metadata": {},
   "outputs": [],
   "source": [
    "## This description is about an Analyst role therefore, the label and the prediction are not corresponding to the meaning"
   ]
  },
  {
   "cell_type": "code",
   "execution_count": 309,
   "metadata": {},
   "outputs": [
    {
     "data": {
      "text/plain": [
       "'job introductionshaw healthcare currently recruit domestic supervisor preferably experience work busy environment housekeeper similar role work environment support vulnerable people important experience work spending time older people understand need carry variety cleaning task throughout home whatever require maintain highest level standard whilst supervise domestic responsibilitieswhat arrange allocation work duty cleaning staff ensure adequate staffing cleaning schedule schedule periodic cleaning conjunction service clean frequency ie daily weekly issue use cleaning safe use coshh regulate product ensure date coshh assessment form readily supervise develop domestic staffmonitor cleaning health safety standard take remedial action control record monitoring procedure place advise service manager facility manager regional manage carry effective communication care staff resident visitor respond need residentsmaintain electrical equipment good clean work order report defect occurliaise service manager aspect redecoration maintenance requirement stock level cleaning laundry material paper good order necessary service manager maintain operate stock control system service manager care staff aspect cleaning eg understand role infection control reduce manage risk implement shaw policy best practice guidelinesabout companywhat offershaw healthcare offer comprehensive training via learn development benefit receive shaw healthcare excellent employee benefit programme include excellent rate paypaid annual leave day per year inclusive bank holidayscorporate day induction mandatory training move handlingnest pension schemefree uniformdiscounted meal shiftrefer friend bonus scheme earn excellent development promotion opportunitieswork towards qcf qualificationretail discount vouchersholiday discountsonline benefit cashback reward include employee assistance program contracted staff include face face counsellingwhy shaw healthcare shaw healthcare provide high standard health social care service across england wale scotland high quality care support service place individual centre base core value wellness happiness kindness unique major healthcare provider business employee shaw foundation grant making charity'"
      ]
     },
     "execution_count": 309,
     "metadata": {},
     "output_type": "execute_result"
    }
   ],
   "source": [
    "df_misclassified[\"Desc proc\"][363]"
   ]
  },
  {
   "cell_type": "code",
   "execution_count": 310,
   "metadata": {},
   "outputs": [],
   "source": [
    "## Again, the description is about a Domestic role therefore, the label and the prediction are not corresponding to the meaning"
   ]
  }
 ],
 "metadata": {
  "kernelspec": {
   "display_name": "Python 3.7 (tensorflow)",
   "language": "python",
   "name": "tensorflow"
  },
  "language_info": {
   "codemirror_mode": {
    "name": "ipython",
    "version": 3
   },
   "file_extension": ".py",
   "mimetype": "text/x-python",
   "name": "python",
   "nbconvert_exporter": "python",
   "pygments_lexer": "ipython3",
   "version": "3.7.9"
  }
 },
 "nbformat": 4,
 "nbformat_minor": 4
}
