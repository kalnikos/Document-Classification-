{
 "cells": [
  {
   "cell_type": "markdown",
   "metadata": {},
   "source": [
    "## Text preprocessing"
   ]
  },
  {
   "cell_type": "code",
   "execution_count": 1,
   "metadata": {},
   "outputs": [],
   "source": [
    "import pandas as pd\n",
    "import glob, os\n",
    "import numpy as np\n",
    "import matplotlib.pyplot as plt\n",
    "import seaborn as sn"
   ]
  },
  {
   "cell_type": "code",
   "execution_count": 2,
   "metadata": {},
   "outputs": [],
   "source": [
    "## read the different files where I saved different job positions\n",
    "all_files = glob.glob(r\"C:\\Users\\nikos\\Desktop\\data_class\" + \"/*.csv\")\n",
    "\n",
    "job_list = []\n",
    "\n",
    "for filename in all_files:\n",
    "        df = pd.read_csv(filename, index_col=None, header=0)\n",
    "        job_list.append(df)\n",
    "        \n",
    "df = pd.concat(job_list, axis=0, ignore_index=True)"
   ]
  },
  {
   "cell_type": "code",
   "execution_count": 3,
   "metadata": {},
   "outputs": [
    {
     "name": "stdout",
     "output_type": "stream",
     "text": [
      "(1468, 8)\n"
     ]
    },
    {
     "data": {
      "text/html": [
       "<div>\n",
       "<style scoped>\n",
       "    .dataframe tbody tr th:only-of-type {\n",
       "        vertical-align: middle;\n",
       "    }\n",
       "\n",
       "    .dataframe tbody tr th {\n",
       "        vertical-align: top;\n",
       "    }\n",
       "\n",
       "    .dataframe thead th {\n",
       "        text-align: right;\n",
       "    }\n",
       "</style>\n",
       "<table border=\"1\" class=\"dataframe\">\n",
       "  <thead>\n",
       "    <tr style=\"text-align: right;\">\n",
       "      <th></th>\n",
       "      <th>Job type</th>\n",
       "      <th>Job Title</th>\n",
       "      <th>Job Url</th>\n",
       "      <th>Company</th>\n",
       "      <th>Location</th>\n",
       "      <th>Summary</th>\n",
       "      <th>Posting Date</th>\n",
       "      <th>Desc</th>\n",
       "    </tr>\n",
       "  </thead>\n",
       "  <tbody>\n",
       "    <tr>\n",
       "      <th>0</th>\n",
       "      <td>Admin</td>\n",
       "      <td>Weekend Receptionist</td>\n",
       "      <td>http://www.indeed.com/rc/clk?jk=fc8eea88550c6c...</td>\n",
       "      <td>Priory Group</td>\n",
       "      <td>London</td>\n",
       "      <td>(Maternity cover 12 month/fixed contract).\\nEn...</td>\n",
       "      <td>1 day ago</td>\n",
       "      <td>Priory Healthcare is the UK’s leading provider...</td>\n",
       "    </tr>\n",
       "    <tr>\n",
       "      <th>1</th>\n",
       "      <td>Admin</td>\n",
       "      <td>ADMINISTRATOR</td>\n",
       "      <td>http://www.indeed.com/rc/clk?jk=bb43950c0a55c2...</td>\n",
       "      <td>Birkbeck University of London</td>\n",
       "      <td>London</td>\n",
       "      <td>You will provide administrative support to a r...</td>\n",
       "      <td>3 days ago</td>\n",
       "      <td>You will provide administrative support to a r...</td>\n",
       "    </tr>\n",
       "    <tr>\n",
       "      <th>2</th>\n",
       "      <td>Admin</td>\n",
       "      <td>Data Entry and Admin Clerk Required</td>\n",
       "      <td>http://www.indeed.com/rc/clk?jk=415d0f0673da28...</td>\n",
       "      <td>JH Recruiters</td>\n",
       "      <td>London</td>\n",
       "      <td>Proven experience in a high volume office and ...</td>\n",
       "      <td>14 days ago</td>\n",
       "      <td>Job Overview:Because of our growth, we are loo...</td>\n",
       "    </tr>\n",
       "    <tr>\n",
       "      <th>3</th>\n",
       "      <td>Admin</td>\n",
       "      <td>Test Administrator - High Holborn</td>\n",
       "      <td>http://www.indeed.com/rc/clk?jk=f88bcc9dacdb52...</td>\n",
       "      <td>Pearson</td>\n",
       "      <td>London</td>\n",
       "      <td>This is strictly a part-time position and will...</td>\n",
       "      <td>8 days ago</td>\n",
       "      <td>DescriptionTest AdministratorPearson VUE (www....</td>\n",
       "    </tr>\n",
       "    <tr>\n",
       "      <th>4</th>\n",
       "      <td>Admin</td>\n",
       "      <td>Administrator/Customer Service</td>\n",
       "      <td>http://www.indeed.com/company/Griffin-Scaffold...</td>\n",
       "      <td>Griffin Scaffolding London</td>\n",
       "      <td>North London</td>\n",
       "      <td>Candidate would be responsible for answering p...</td>\n",
       "      <td>3 days ago</td>\n",
       "      <td>Candidate would be responsible for answering p...</td>\n",
       "    </tr>\n",
       "  </tbody>\n",
       "</table>\n",
       "</div>"
      ],
      "text/plain": [
       "  Job type                            Job Title  \\\n",
       "0    Admin                 Weekend Receptionist   \n",
       "1    Admin                        ADMINISTRATOR   \n",
       "2    Admin  Data Entry and Admin Clerk Required   \n",
       "3    Admin    Test Administrator - High Holborn   \n",
       "4    Admin       Administrator/Customer Service   \n",
       "\n",
       "                                             Job Url  \\\n",
       "0  http://www.indeed.com/rc/clk?jk=fc8eea88550c6c...   \n",
       "1  http://www.indeed.com/rc/clk?jk=bb43950c0a55c2...   \n",
       "2  http://www.indeed.com/rc/clk?jk=415d0f0673da28...   \n",
       "3  http://www.indeed.com/rc/clk?jk=f88bcc9dacdb52...   \n",
       "4  http://www.indeed.com/company/Griffin-Scaffold...   \n",
       "\n",
       "                         Company      Location  \\\n",
       "0                   Priory Group        London   \n",
       "1  Birkbeck University of London        London   \n",
       "2                  JH Recruiters        London   \n",
       "3                        Pearson        London   \n",
       "4     Griffin Scaffolding London  North London   \n",
       "\n",
       "                                             Summary Posting Date  \\\n",
       "0  (Maternity cover 12 month/fixed contract).\\nEn...    1 day ago   \n",
       "1  You will provide administrative support to a r...   3 days ago   \n",
       "2  Proven experience in a high volume office and ...  14 days ago   \n",
       "3  This is strictly a part-time position and will...   8 days ago   \n",
       "4  Candidate would be responsible for answering p...   3 days ago   \n",
       "\n",
       "                                                Desc  \n",
       "0  Priory Healthcare is the UK’s leading provider...  \n",
       "1  You will provide administrative support to a r...  \n",
       "2  Job Overview:Because of our growth, we are loo...  \n",
       "3  DescriptionTest AdministratorPearson VUE (www....  \n",
       "4  Candidate would be responsible for answering p...  "
      ]
     },
     "execution_count": 3,
     "metadata": {},
     "output_type": "execute_result"
    }
   ],
   "source": [
    "## Inspect the data frame\n",
    "print(df.shape)\n",
    "df.head()"
   ]
  },
  {
   "cell_type": "code",
   "execution_count": 4,
   "metadata": {},
   "outputs": [
    {
     "data": {
      "text/plain": [
       "Job type        False\n",
       "Job Title       False\n",
       "Job Url         False\n",
       "Company         False\n",
       "Location        False\n",
       "Summary         False\n",
       "Posting Date    False\n",
       "Desc            False\n",
       "dtype: bool"
      ]
     },
     "execution_count": 4,
     "metadata": {},
     "output_type": "execute_result"
    }
   ],
   "source": [
    "## Check for null values \n",
    "df.isnull().any()"
   ]
  },
  {
   "cell_type": "code",
   "execution_count": 5,
   "metadata": {},
   "outputs": [],
   "source": [
    "## Checking for duplicates\n",
    "df = df.drop_duplicates(subset=['Job Url'])"
   ]
  },
  {
   "cell_type": "code",
   "execution_count": 6,
   "metadata": {},
   "outputs": [
    {
     "data": {
      "text/plain": [
       "(1236, 8)"
      ]
     },
     "execution_count": 6,
     "metadata": {},
     "output_type": "execute_result"
    }
   ],
   "source": [
    "## Print the shape\n",
    "df.shape"
   ]
  },
  {
   "cell_type": "code",
   "execution_count": 7,
   "metadata": {},
   "outputs": [
    {
     "data": {
      "text/plain": [
       "Job type\n",
       "Admin            153\n",
       "Analyst          159\n",
       "Finance          166\n",
       "Warehouse        150\n",
       "cleaner          150\n",
       "hospitality      144\n",
       "recruitment      152\n",
       "web developer    162\n",
       "Name: Job Title, dtype: int64"
      ]
     },
     "execution_count": 7,
     "metadata": {},
     "output_type": "execute_result"
    }
   ],
   "source": [
    "domains = df.groupby(\"Job type\").count()\n",
    "domains[\"Job Title\"]"
   ]
  },
  {
   "cell_type": "code",
   "execution_count": 8,
   "metadata": {},
   "outputs": [
    {
     "data": {
      "image/png": "[encoded data removed]",
      "text/plain": [
       "<Figure size 1080x432 with 1 Axes>"
      ]
     },
     "metadata": {
      "needs_background": "light"
     },
     "output_type": "display_data"
    }
   ],
   "source": [
    "plt.figure(figsize=(15,6))\n",
    "x = [i for i, df in df.groupby(\"Job type\")]\n",
    "\n",
    "plt.title(\"Job Descriptions per domain\")\n",
    "\n",
    "bars = plt.bar(x, domains[\"Job Title\"], color=\"c\")\n",
    "\n",
    "plt.yticks(np.arange(0,201,10))\n",
    "plt.xlabel('Domains')\n",
    "plt.ylabel('Number of Ads')\n",
    "\n",
    "for bar in bars:\n",
    "    xval = bar.get_width()\n",
    "    yval = bar.get_height()\n",
    "    plt.text(bar.get_x(), yval + .5, yval, fontsize=15)\n",
    "    \n",
    "plt.show()"
   ]
  },
  {
   "cell_type": "code",
   "execution_count": 9,
   "metadata": {},
   "outputs": [
    {
     "data": {
      "text/plain": [
       "count     1236.000000\n",
       "mean      2595.838997\n",
       "std       1670.148536\n",
       "min        138.000000\n",
       "25%       1421.250000\n",
       "50%       2208.000000\n",
       "75%       3413.250000\n",
       "max      13152.000000\n",
       "Name: Desc_Lenght, dtype: float64"
      ]
     },
     "execution_count": 9,
     "metadata": {},
     "output_type": "execute_result"
    }
   ],
   "source": [
    "## Check the lenght distribution\n",
    "df[\"Desc_Lenght\"] = df[\"Desc\"].str.len()\n",
    "df[\"Desc_Lenght\"].describe()"
   ]
  },
  {
   "cell_type": "code",
   "execution_count": 10,
   "metadata": {},
   "outputs": [
    {
     "name": "stderr",
     "output_type": "stream",
     "text": [
      "C:\\Users\\nikos\\miniconda3\\envs\\tensorflow\\lib\\site-packages\\seaborn\\distributions.py:2551: FutureWarning: `distplot` is a deprecated function and will be removed in a future version. Please adapt your code to use either `displot` (a figure-level function with similar flexibility) or `histplot` (an axes-level function for histograms).\n",
      "  warnings.warn(msg, FutureWarning)\n"
     ]
    },
    {
     "data": {
      "image/png": "[encoded data removed]",
      "text/plain": [
       "<Figure size 1080x432 with 1 Axes>"
      ]
     },
     "metadata": {
      "needs_background": "light"
     },
     "output_type": "display_data"
    }
   ],
   "source": [
    "## Plot the lenght distribution\n",
    "plt.figure(figsize=(15,6))\n",
    "sn.distplot(df['Desc_Lenght']).set_title('Job Description length distribution')\n",
    "plt.show()"
   ]
  },
  {
   "cell_type": "code",
   "execution_count": 11,
   "metadata": {},
   "outputs": [
    {
     "data": {
      "text/plain": [
       "<AxesSubplot:xlabel='Job type', ylabel='Desc_Lenght'>"
      ]
     },
     "execution_count": 11,
     "metadata": {},
     "output_type": "execute_result"
    },
    {
     "data": {
      "image/png": "[encoded data removed]",
      "text/plain": [
       "<Figure size 1080x432 with 1 Axes>"
      ]
     },
     "metadata": {
      "needs_background": "light"
     },
     "output_type": "display_data"
    }
   ],
   "source": [
    "## Chech the lenght of the job description per category\n",
    "plt.figure(figsize=(15,6))\n",
    "sn.boxplot(data=df, x='Job type', y='Desc_Lenght')"
   ]
  },
  {
   "cell_type": "code",
   "execution_count": 12,
   "metadata": {},
   "outputs": [
    {
     "name": "stdout",
     "output_type": "stream",
     "text": [
      "1992.0\n",
      "-1566.75 6401.25\n"
     ]
    }
   ],
   "source": [
    "## Drop the outliers of the desc_lenght column\n",
    "Q1 = df[\"Desc_Lenght\"].quantile(0.25)\n",
    "Q3 =df[\"Desc_Lenght\"].quantile(0.75)\n",
    "IQR = Q3 - Q1\n",
    "print(IQR)\n",
    "\n",
    "Lower_Whisker = Q1 - 1.5 * IQR\n",
    "Upper_Whisker = Q3 + 1.5 * IQR\n",
    "print(Lower_Whisker, Upper_Whisker)\n",
    "\n",
    "df = df[df[\"Desc_Lenght\"] < Upper_Whisker]"
   ]
  },
  {
   "cell_type": "code",
   "execution_count": 13,
   "metadata": {},
   "outputs": [
    {
     "data": {
      "text/plain": [
       "(1201, 9)"
      ]
     },
     "execution_count": 13,
     "metadata": {},
     "output_type": "execute_result"
    }
   ],
   "source": [
    "df.shape"
   ]
  },
  {
   "cell_type": "code",
   "execution_count": 14,
   "metadata": {},
   "outputs": [
    {
     "data": {
      "text/plain": [
       "<AxesSubplot:xlabel='Job type', ylabel='Desc_Lenght'>"
      ]
     },
     "execution_count": 14,
     "metadata": {},
     "output_type": "execute_result"
    },
    {
     "data": {
      "image/png": "[encoded data removed]",
      "text/plain": [
       "<Figure size 1080x432 with 1 Axes>"
      ]
     },
     "metadata": {
      "needs_background": "light"
     },
     "output_type": "display_data"
    }
   ],
   "source": [
    "plt.figure(figsize=(15,6))\n",
    "sn.boxplot(data=df, x='Job type', y='Desc_Lenght')"
   ]
  },
  {
   "cell_type": "code",
   "execution_count": 15,
   "metadata": {},
   "outputs": [
    {
     "data": {
      "text/plain": [
       "array(['Admin', 'Analyst', 'cleaner', 'Finance', 'hospitality',\n",
       "       'recruitment', 'Warehouse', 'web developer'], dtype=object)"
      ]
     },
     "execution_count": 15,
     "metadata": {},
     "output_type": "execute_result"
    }
   ],
   "source": [
    "df[\"Job type\"].unique()"
   ]
  },
  {
   "cell_type": "code",
   "execution_count": 16,
   "metadata": {},
   "outputs": [
    {
     "data": {
      "text/plain": [
       "Job type\n",
       "Admin            149\n",
       "Analyst          151\n",
       "Finance          158\n",
       "Warehouse        150\n",
       "cleaner          149\n",
       "hospitality      143\n",
       "recruitment      143\n",
       "web developer    158\n",
       "Name: Job Title, dtype: int64"
      ]
     },
     "execution_count": 16,
     "metadata": {},
     "output_type": "execute_result"
    }
   ],
   "source": [
    "## Six different labels to predict \n",
    "## inspect How balanced are the observations\n",
    "dom_num = df.groupby(\"Job type\").count()\n",
    "dom_num[\"Job Title\"]"
   ]
  },
  {
   "cell_type": "code",
   "execution_count": 17,
   "metadata": {},
   "outputs": [
    {
     "data": {
      "text/html": [
       "<div>\n",
       "<style scoped>\n",
       "    .dataframe tbody tr th:only-of-type {\n",
       "        vertical-align: middle;\n",
       "    }\n",
       "\n",
       "    .dataframe tbody tr th {\n",
       "        vertical-align: top;\n",
       "    }\n",
       "\n",
       "    .dataframe thead th {\n",
       "        text-align: right;\n",
       "    }\n",
       "</style>\n",
       "<table border=\"1\" class=\"dataframe\">\n",
       "  <thead>\n",
       "    <tr style=\"text-align: right;\">\n",
       "      <th></th>\n",
       "      <th>Job type</th>\n",
       "      <th>Job Title</th>\n",
       "      <th>Job Url</th>\n",
       "      <th>Company</th>\n",
       "      <th>Location</th>\n",
       "      <th>Summary</th>\n",
       "      <th>Posting Date</th>\n",
       "      <th>Desc</th>\n",
       "      <th>Desc_Lenght</th>\n",
       "    </tr>\n",
       "  </thead>\n",
       "  <tbody>\n",
       "    <tr>\n",
       "      <th>0</th>\n",
       "      <td>Admin</td>\n",
       "      <td>Weekend Receptionist</td>\n",
       "      <td>http://www.indeed.com/rc/clk?jk=fc8eea88550c6c...</td>\n",
       "      <td>Priory Group</td>\n",
       "      <td>London</td>\n",
       "      <td>(Maternity cover 12 month/fixed contract).\\nEn...</td>\n",
       "      <td>1 day ago</td>\n",
       "      <td>Priory Healthcare is the UK’s leading provider...</td>\n",
       "      <td>1114</td>\n",
       "    </tr>\n",
       "    <tr>\n",
       "      <th>1</th>\n",
       "      <td>Admin</td>\n",
       "      <td>ADMINISTRATOR</td>\n",
       "      <td>http://www.indeed.com/rc/clk?jk=bb43950c0a55c2...</td>\n",
       "      <td>Birkbeck University of London</td>\n",
       "      <td>London</td>\n",
       "      <td>You will provide administrative support to a r...</td>\n",
       "      <td>3 days ago</td>\n",
       "      <td>You will provide administrative support to a r...</td>\n",
       "      <td>2812</td>\n",
       "    </tr>\n",
       "    <tr>\n",
       "      <th>2</th>\n",
       "      <td>Admin</td>\n",
       "      <td>Data Entry and Admin Clerk Required</td>\n",
       "      <td>http://www.indeed.com/rc/clk?jk=415d0f0673da28...</td>\n",
       "      <td>JH Recruiters</td>\n",
       "      <td>London</td>\n",
       "      <td>Proven experience in a high volume office and ...</td>\n",
       "      <td>14 days ago</td>\n",
       "      <td>Job Overview:Because of our growth, we are loo...</td>\n",
       "      <td>1277</td>\n",
       "    </tr>\n",
       "    <tr>\n",
       "      <th>3</th>\n",
       "      <td>Admin</td>\n",
       "      <td>Test Administrator - High Holborn</td>\n",
       "      <td>http://www.indeed.com/rc/clk?jk=f88bcc9dacdb52...</td>\n",
       "      <td>Pearson</td>\n",
       "      <td>London</td>\n",
       "      <td>This is strictly a part-time position and will...</td>\n",
       "      <td>8 days ago</td>\n",
       "      <td>DescriptionTest AdministratorPearson VUE (www....</td>\n",
       "      <td>5075</td>\n",
       "    </tr>\n",
       "    <tr>\n",
       "      <th>4</th>\n",
       "      <td>Admin</td>\n",
       "      <td>Administrator/Customer Service</td>\n",
       "      <td>http://www.indeed.com/company/Griffin-Scaffold...</td>\n",
       "      <td>Griffin Scaffolding London</td>\n",
       "      <td>North London</td>\n",
       "      <td>Candidate would be responsible for answering p...</td>\n",
       "      <td>3 days ago</td>\n",
       "      <td>Candidate would be responsible for answering p...</td>\n",
       "      <td>1056</td>\n",
       "    </tr>\n",
       "  </tbody>\n",
       "</table>\n",
       "</div>"
      ],
      "text/plain": [
       "  Job type                            Job Title  \\\n",
       "0    Admin                 Weekend Receptionist   \n",
       "1    Admin                        ADMINISTRATOR   \n",
       "2    Admin  Data Entry and Admin Clerk Required   \n",
       "3    Admin    Test Administrator - High Holborn   \n",
       "4    Admin       Administrator/Customer Service   \n",
       "\n",
       "                                             Job Url  \\\n",
       "0  http://www.indeed.com/rc/clk?jk=fc8eea88550c6c...   \n",
       "1  http://www.indeed.com/rc/clk?jk=bb43950c0a55c2...   \n",
       "2  http://www.indeed.com/rc/clk?jk=415d0f0673da28...   \n",
       "3  http://www.indeed.com/rc/clk?jk=f88bcc9dacdb52...   \n",
       "4  http://www.indeed.com/company/Griffin-Scaffold...   \n",
       "\n",
       "                         Company      Location  \\\n",
       "0                   Priory Group        London   \n",
       "1  Birkbeck University of London        London   \n",
       "2                  JH Recruiters        London   \n",
       "3                        Pearson        London   \n",
       "4     Griffin Scaffolding London  North London   \n",
       "\n",
       "                                             Summary Posting Date  \\\n",
       "0  (Maternity cover 12 month/fixed contract).\\nEn...    1 day ago   \n",
       "1  You will provide administrative support to a r...   3 days ago   \n",
       "2  Proven experience in a high volume office and ...  14 days ago   \n",
       "3  This is strictly a part-time position and will...   8 days ago   \n",
       "4  Candidate would be responsible for answering p...   3 days ago   \n",
       "\n",
       "                                                Desc  Desc_Lenght  \n",
       "0  Priory Healthcare is the UK’s leading provider...         1114  \n",
       "1  You will provide administrative support to a r...         2812  \n",
       "2  Job Overview:Because of our growth, we are loo...         1277  \n",
       "3  DescriptionTest AdministratorPearson VUE (www....         5075  \n",
       "4  Candidate would be responsible for answering p...         1056  "
      ]
     },
     "execution_count": 17,
     "metadata": {},
     "output_type": "execute_result"
    }
   ],
   "source": [
    "df.head()"
   ]
  },
  {
   "cell_type": "code",
   "execution_count": 18,
   "metadata": {},
   "outputs": [],
   "source": [
    "## Keep the columns that we need for building the model\n",
    "df = df[[\"Desc\", \"Job type\"]]"
   ]
  },
  {
   "cell_type": "code",
   "execution_count": 19,
   "metadata": {},
   "outputs": [],
   "source": [
    "## Let's map the target column\n",
    "encode = {'Admin':0, 'Analyst':1, 'cleaner':2, 'Finance':3, 'hospitality':4,\n",
    "       'recruitment':5, 'Warehouse':6, 'web developer':7}"
   ]
  },
  {
   "cell_type": "code",
   "execution_count": 20,
   "metadata": {},
   "outputs": [
    {
     "data": {
      "text/plain": [
       "array([0, 1, 2, 3, 4, 5, 6, 7], dtype=int64)"
      ]
     },
     "execution_count": 20,
     "metadata": {},
     "output_type": "execute_result"
    }
   ],
   "source": [
    "df[\"target\"] = df[\"Job type\"].map(encode)\n",
    "df[\"target\"].unique()"
   ]
  },
  {
   "cell_type": "markdown",
   "metadata": {},
   "source": [
    "### Next step text preprocessing"
   ]
  },
  {
   "cell_type": "code",
   "execution_count": 21,
   "metadata": {},
   "outputs": [
    {
     "name": "stderr",
     "output_type": "stream",
     "text": [
      "[nltk_data] Downloading package punkt to\n",
      "[nltk_data]     C:\\Users\\nikos\\AppData\\Roaming\\nltk_data...\n",
      "[nltk_data]   Package punkt is already up-to-date!\n",
      "[nltk_data] Downloading package averaged_perceptron_tagger to\n",
      "[nltk_data]     C:\\Users\\nikos\\AppData\\Roaming\\nltk_data...\n",
      "[nltk_data]   Package averaged_perceptron_tagger is already up-to-\n",
      "[nltk_data]       date!\n",
      "[nltk_data] Downloading package wordnet to\n",
      "[nltk_data]     C:\\Users\\nikos\\AppData\\Roaming\\nltk_data...\n",
      "[nltk_data]   Package wordnet is already up-to-date!\n",
      "[nltk_data] Downloading package stopwords to\n",
      "[nltk_data]     C:\\Users\\nikos\\AppData\\Roaming\\nltk_data...\n",
      "[nltk_data]   Package stopwords is already up-to-date!\n"
     ]
    }
   ],
   "source": [
    "## text preprocessing \n",
    "import nltk \n",
    "\n",
    "nltk.download('punkt') \n",
    "\n",
    "nltk.download('averaged_perceptron_tagger') \n",
    "\n",
    "nltk.download('wordnet') \n",
    "\n",
    "    \n",
    "from nltk.stem import WordNetLemmatizer \n",
    "\n",
    "lemmatizer = WordNetLemmatizer() \n",
    "\n",
    "  \n",
    "\n",
    "from nltk.corpus import stopwords \n",
    "\n",
    "nltk.download('stopwords') \n",
    "\n",
    "stop_words = set(stopwords.words('english')) \n",
    "\n",
    "\n",
    "VERB_CODES = {'VB', 'VBD', 'VBG', 'VBN', 'VBP', 'VBZ'}"
   ]
  },
  {
   "cell_type": "code",
   "execution_count": 22,
   "metadata": {},
   "outputs": [],
   "source": [
    "## Apply a text manipulation function\n",
    "def preprocess_sentences(text): \n",
    "\n",
    "    text = text.lower() \n",
    "    temp_sent =[] \n",
    "    words = nltk.word_tokenize(text) \n",
    "    tags = nltk.pos_tag(words) \n",
    "    \n",
    "    for i, word in enumerate(words): \n",
    "        if tags[i][1] in VERB_CODES:   \n",
    "            lemmatized = lemmatizer.lemmatize(word, 'v') \n",
    "        else: \n",
    "            lemmatized = lemmatizer.lemmatize(word) \n",
    "        if lemmatized not in stop_words and lemmatized.isalpha(): \n",
    "            temp_sent.append(lemmatized) \n",
    "\n",
    "    finalsent = ' '.join(temp_sent) \n",
    "    finalsent = finalsent.replace(\"n't\", \" not\") \n",
    "    finalsent = finalsent.replace(\"'m\", \" am\") \n",
    "    finalsent = finalsent.replace(\"'s\", \" is\") \n",
    "    finalsent = finalsent.replace(\"'re\", \" are\") \n",
    "    finalsent = finalsent.replace(\"'ll\", \" will\") \n",
    "    finalsent = finalsent.replace(\"'ve\", \" have\") \n",
    "    finalsent = finalsent.replace(\"'d\", \" would\") \n",
    "\n",
    "    return finalsent "
   ]
  },
  {
   "cell_type": "code",
   "execution_count": 23,
   "metadata": {},
   "outputs": [],
   "source": [
    "## Creating a new column where we applied the text manipulation function \n",
    "df[\"Desc proc\"] = df[\"Desc\"].apply(preprocess_sentences) \n",
    "new_df = df[[\"Desc proc\", \"target\"]]"
   ]
  },
  {
   "cell_type": "code",
   "execution_count": 24,
   "metadata": {},
   "outputs": [
    {
     "data": {
      "text/plain": [
       "'facility service desk operativeour building service business look facility service desk operative join team primary function role contribute effective efficient operation city london facility service desk ensure contractual obligation around reactive task performance meet manage distribution closing reactive task liaise skanska engineer subcontractor provide focal point client enquiriesyou provide day day management cafm system ensure meet contractual obligationsproactively monitor manage outstanding reactive task ensure cafm system date timesliaise technical staff supervisor manager building user appropriate ensure accurate relevant timely communication maintain timescoordinate skanska supply chain engineer ensure contractual obligation meet relevant sheet provide close reactive task downsupport generation detailed report cafm system incorporation skanska client monthly reportwe look working role require high volume data communication skill verbal write first class customer service skillsworking high pressure customer service roleexperience utilising cafm system within building desirable mandatorywe thrive embracing difference know diversity open rich potential new way thinking help u build successful winning team call naturally would like perform best every stage recruitment process please contact u recruitment require adjustment would support throughout welcome ask flexibility need anyone apply role ask flexibility interview return explore possible advert job vacancy therefore may inclusive assigned duty responsibility aspect role describe may amend time sole discretion skanska full role profile please contact u recruitment closing date vacancy may subject change time sole discretion informationlocation london united kingdomschedule status regular'"
      ]
     },
     "execution_count": 24,
     "metadata": {},
     "output_type": "execute_result"
    }
   ],
   "source": [
    "## after preprocessing\n",
    "new_df[\"Desc proc\"][23]"
   ]
  },
  {
   "cell_type": "code",
   "execution_count": 25,
   "metadata": {},
   "outputs": [
    {
     "data": {
      "text/plain": [
       "'Facilities Service Desk OperativeOur Building Services business is looking for a Facilities Service Desk Operative to join the team in the Guildhall.The primary function of the role is to contribute to the effective and efficient operation of the City of London Facilities Service Desk to ensure contractual obligations around all reactive task performance are met. Managing the distribution and closing of reactive tasks, liaising with Skanska Engineers and Subcontractors and providing a focal point for client enquiriesYou’ll:Provide day to day management of the CAFM system to ensure we meet our contractual obligationsProactively monitor and manage outstanding all reactive tasks ensure the CAFM system is up to date at all timesLiaise with Technical Staff, Supervisors, Managers and Building Users (as appropriate) to ensure accurate, relevant and timely communication is maintained at all timesCoordinate Skanska’s supply chain and engineers to ensure that contractual obligations are met and relevant paperwork/job sheets are provided to close reactive tasks downSupport the generation of detailed reports from the CAFM system for incorporation into the Skanska client monthly reportWe’re looking for:Working in a role requiring high volume data input/controlExcellent communication skills (both verbal and written)First class customer service skillsWorking in a high pressure customer service roleExperience utilising CAFM systems within a building is desirable but not mandatoryWe thrive through embracing differences because we know that diversity opens a rich potential for new ways of thinking, helping us to build successful and winning teams. We call it Naturally Skanska.We would like you to perform at your best at every stage of our recruitment process. Please contact us on recruitment@skanska.co.uk if you require any adjustments that would support you throughout your application.We welcome you to ask about the flexibility you need. Anyone who applies for a role can ask about flexibility at interview. In return, we will explore what is possible for the role.This is an advert for our job vacancy, and therefore may not be inclusive of all assigned duties, responsibilities, or aspects of the role described, and may be amended at any time at the sole discretion of Skanska. For a full role profile, please contact us: recruitment@skanska.co.uk . The closing date for this vacancy may be subject to change any time at the sole discretion of the business.Additional InformationLocation: London, United KingdomSchedule: Full-timeEmployee Status: Regular'"
      ]
     },
     "execution_count": 25,
     "metadata": {},
     "output_type": "execute_result"
    }
   ],
   "source": [
    "## before preprocessing\n",
    "df[\"Desc\"][23]"
   ]
  },
  {
   "cell_type": "code",
   "execution_count": 26,
   "metadata": {},
   "outputs": [
    {
     "data": {
      "text/plain": [
       "(1201, 2)"
      ]
     },
     "execution_count": 26,
     "metadata": {},
     "output_type": "execute_result"
    }
   ],
   "source": [
    "new_df = new_df.reset_index(drop=True)\n",
    "new_df.shape"
   ]
  },
  {
   "cell_type": "code",
   "execution_count": 27,
   "metadata": {},
   "outputs": [],
   "source": [
    "X = new_df[\"Desc proc\"]\n",
    "y = new_df[\"target\"]"
   ]
  },
  {
   "cell_type": "code",
   "execution_count": 28,
   "metadata": {},
   "outputs": [],
   "source": [
    "from sklearn.model_selection import train_test_split\n",
    "X_train, X_test, y_train, y_test = train_test_split(X, y, test_size=0.20, random_state=42)"
   ]
  },
  {
   "cell_type": "code",
   "execution_count": 29,
   "metadata": {},
   "outputs": [
    {
     "name": "stdout",
     "output_type": "stream",
     "text": [
      "(960,)\n",
      "(241,)\n"
     ]
    }
   ],
   "source": [
    "print(X_train.shape)\n",
    "print(X_test.shape)"
   ]
  },
  {
   "cell_type": "code",
   "execution_count": 30,
   "metadata": {},
   "outputs": [],
   "source": [
    "## Let's save the splitted parts of the data frame for some quality inspection at the end of the process in order to check for misclassifications\n",
    "# df_X_train\n",
    "import pickle\n",
    "with open('Pickles/df_X_train.pickle', 'wb') as output:\n",
    "    pickle.dump(X_train, output)\n",
    "    \n",
    "# df_X_test    \n",
    "with open('Pickles/df_X_test.pickle', 'wb') as output:\n",
    "    pickle.dump(X_test, output)\n",
    "# df_y_train    \n",
    "with open('Pickles/df_y_train.pickle', 'wb') as output:\n",
    "    pickle.dump(y_train, output)\n",
    "    \n",
    "# df_y_test    \n",
    "with open('Pickles/df_y_test.pickle', 'wb') as output:\n",
    "    pickle.dump(y_test, output)\n",
    "    \n",
    "## and the data frame\n",
    "with open('Pickles/new_df.pickle', 'wb') as output:\n",
    "    pickle.dump(new_df, output)"
   ]
  },
  {
   "cell_type": "code",
   "execution_count": 31,
   "metadata": {},
   "outputs": [],
   "source": [
    "# Parameter election\n",
    "ngram_range = (1,2)\n",
    "min_df = 10\n",
    "max_df = 1.\n",
    "max_features = 500"
   ]
  },
  {
   "cell_type": "code",
   "execution_count": 32,
   "metadata": {},
   "outputs": [
    {
     "name": "stdout",
     "output_type": "stream",
     "text": [
      "(960, 500)\n",
      "(241, 500)\n"
     ]
    }
   ],
   "source": [
    "from sklearn.feature_extraction.text import TfidfVectorizer\n",
    "\n",
    "vectorizer = TfidfVectorizer(encoding='utf-8',\n",
    "                        ngram_range=ngram_range,\n",
    "                        stop_words=None,\n",
    "                        lowercase=False,\n",
    "                        max_df=max_df,\n",
    "                        min_df=min_df,\n",
    "                        max_features=max_features,\n",
    "                        norm='l2',\n",
    "                        sublinear_tf=True)\n",
    "\n",
    "\n",
    "\n",
    "train_x_vectors = vectorizer.fit_transform(X_train).toarray()\n",
    "test_x_vectors = vectorizer.transform(X_test).toarray()\n",
    "\n",
    "print(train_x_vectors.shape)\n",
    "print(test_x_vectors.shape)"
   ]
  },
  {
   "cell_type": "code",
   "execution_count": 33,
   "metadata": {},
   "outputs": [],
   "source": [
    "# X_train\n",
    "with open('Pickles/X_train.pickle', 'wb') as output:\n",
    "    pickle.dump(train_x_vectors, output)\n",
    "    \n",
    "# X_test    \n",
    "with open('Pickles/X_test.pickle', 'wb') as output:\n",
    "    pickle.dump(test_x_vectors, output)\n",
    "    \n",
    "# y_train\n",
    "with open('Pickles/y_train.pickle', 'wb') as output:\n",
    "    pickle.dump(y_train, output)\n",
    "    \n",
    "# y_test\n",
    "with open('Pickles/y_test.pickle', 'wb') as output:\n",
    "    pickle.dump(y_test, output)\n",
    "    \n",
    "# df\n",
    "with open('Pickles/df.pickle', 'wb') as output:\n",
    "    pickle.dump(new_df, output)\n",
    "    \n",
    "# tfid model\n",
    "with open('Pickles/vectorizer.pickle', 'wb') as output:\n",
    "    pickle.dump(vectorizer, output)"
   ]
  },
  {
   "cell_type": "code",
   "execution_count": null,
   "metadata": {},
   "outputs": [],
   "source": []
  }
 ],
 "metadata": {
  "kernelspec": {
   "display_name": "Python 3.7 (tensorflow)",
   "language": "python",
   "name": "tensorflow"
  },
  "language_info": {
   "codemirror_mode": {
    "name": "ipython",
    "version": 3
   },
   "file_extension": ".py",
   "mimetype": "text/x-python",
   "name": "python",
   "nbconvert_exporter": "python",
   "pygments_lexer": "ipython3",
   "version": "3.7.9"
  }
 },
 "nbformat": 4,
 "nbformat_minor": 4
}
